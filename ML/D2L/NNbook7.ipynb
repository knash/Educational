{
 "cells": [
  {
   "cell_type": "code",
   "execution_count": null,
   "id": "36f56f41",
   "metadata": {},
   "outputs": [],
   "source": [
    "from __future__ import print_function\n",
    "import argparse\n",
    "import torch\n",
    "import torch.nn as nn\n",
    "import torch.nn.functional as F\n",
    "import torch.optim as optim\n",
    "import sys\n",
    "import math\n",
    "from torchvision import datasets, transforms\n",
    "from torch.optim.lr_scheduler import StepLR\n",
    "from d2l import torch as d2l\n",
    "#Attention mechanisms\n",
    "#Brain gets too much stimuli to process \n",
    "#Need some mechanism to only pay attention toi partial input\n",
    "#We pay attention to something that \"stands out\" different colors, shapes etc. Called a nonvolitional cue (task independent).\n",
    "#Volitional cue is your brain deciding to look at a specific object out of a need or want (task dependent)"
   ]
  },
  {
   "cell_type": "code",
   "execution_count": null,
   "id": "dda7d350",
   "metadata": {},
   "outputs": [],
   "source": [
    "#Masked softmax\n",
    "#Come back to -- this makes no sense"
   ]
  }
 ],
 "metadata": {
  "kernelspec": {
   "display_name": "Python 3",
   "language": "python",
   "name": "python3"
  },
  "language_info": {
   "codemirror_mode": {
    "name": "ipython",
    "version": 3
   },
   "file_extension": ".py",
   "mimetype": "text/x-python",
   "name": "python",
   "nbconvert_exporter": "python",
   "pygments_lexer": "ipython3",
   "version": "3.9.5"
  }
 },
 "nbformat": 4,
 "nbformat_minor": 5
}

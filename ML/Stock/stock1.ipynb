{
 "cells": [
  {
   "cell_type": "code",
   "execution_count": 7,
   "id": "d40f2507",
   "metadata": {},
   "outputs": [],
   "source": [
    "import sys\n",
    "sys.path.append('/usr/local/lib/python3.9/site-packages/')\n",
    "import os\n",
    "import yfinance as yf\n",
    "\n",
    "import bisect\n",
    "import math\n",
    "import matplotlib as plt\n",
    "import pandas as pd\n",
    "from pandas import Series,DataFrame\n",
    "import matplotlib.pyplot as plt\n",
    "import numpy as np\n",
    "import copy\n",
    "import json\n",
    "import lxml\n",
    "import time \n",
    "from lxml import objectify \n",
    "allsymbols=(list(pd.read_csv(\"nasdaq_screener_1620782407101.csv\").loc[:][\"Symbol\"].values))\n",
    "\n"
   ]
  },
  {
   "cell_type": "code",
   "execution_count": null,
   "id": "8fe16a17",
   "metadata": {},
   "outputs": [],
   "source": [
    "symsubset=allsymbols[5000:6000]\n",
    "print(symsubset)\n",
    "totalwrite=0\n",
    "for isym,sym in enumerate(symsubset):\n",
    "    try:\n",
    "        curt = yf.Ticker(sym)\n",
    "        hist = curt.history(period=\"max\")\n",
    "        print (isym,\"/\",len(symsubset),hist.shape)\n",
    "        if (hist.shape[0]<2000):\n",
    "            print(\"not enough data\")\n",
    "            continue\n",
    "        else:\n",
    "            totalwrite+=1\n",
    "        hist.to_json(\"stockdir/\"+sym+\".json\")\n",
    "\n",
    "    except:\n",
    "        \"Failed\"\n",
    "print(\"Wrote\",totalwrite,\"out of\",len(symsubset))"
   ]
  },
  {
   "cell_type": "code",
   "execution_count": 8,
   "id": "fd2835e3",
   "metadata": {},
   "outputs": [
    {
     "ename": "FileNotFoundError",
     "evalue": "[WinError 3] The system cannot find the path specified: 'stockdir'",
     "output_type": "error",
     "traceback": [
      "\u001b[1;31m---------------------------------------------------------------------------\u001b[0m",
      "\u001b[1;31mFileNotFoundError\u001b[0m                         Traceback (most recent call last)",
      "\u001b[1;32m<ipython-input-8-ffbb7ee93c62>\u001b[0m in \u001b[0;36m<module>\u001b[1;34m\u001b[0m\n\u001b[0;32m      1\u001b[0m \u001b[1;32mfrom\u001b[0m \u001b[0mshutil\u001b[0m \u001b[1;32mimport\u001b[0m \u001b[0mcopyfile\u001b[0m\u001b[1;33m\u001b[0m\u001b[1;33m\u001b[0m\u001b[0m\n\u001b[0;32m      2\u001b[0m \u001b[1;33m\u001b[0m\u001b[0m\n\u001b[1;32m----> 3\u001b[1;33m \u001b[0malldown\u001b[0m\u001b[1;33m=\u001b[0m\u001b[0mos\u001b[0m\u001b[1;33m.\u001b[0m\u001b[0mlistdir\u001b[0m\u001b[1;33m(\u001b[0m\u001b[1;34m\"stockdir\"\u001b[0m\u001b[1;33m)\u001b[0m\u001b[1;33m\u001b[0m\u001b[1;33m\u001b[0m\u001b[0m\n\u001b[0m\u001b[0;32m      4\u001b[0m \u001b[1;32mif\u001b[0m \u001b[1;32mnot\u001b[0m \u001b[0mos\u001b[0m\u001b[1;33m.\u001b[0m\u001b[0mpath\u001b[0m\u001b[1;33m.\u001b[0m\u001b[0mexists\u001b[0m\u001b[1;33m(\u001b[0m\u001b[1;34m\"stockdir/filtered\"\u001b[0m\u001b[1;33m)\u001b[0m\u001b[1;33m:\u001b[0m\u001b[1;33m\u001b[0m\u001b[1;33m\u001b[0m\u001b[0m\n\u001b[0;32m      5\u001b[0m     \u001b[0mos\u001b[0m\u001b[1;33m.\u001b[0m\u001b[0mmakedirs\u001b[0m\u001b[1;33m(\u001b[0m\u001b[1;34m\"stockdir/filtered\"\u001b[0m\u001b[1;33m)\u001b[0m\u001b[1;33m\u001b[0m\u001b[1;33m\u001b[0m\u001b[0m\n",
      "\u001b[1;31mFileNotFoundError\u001b[0m: [WinError 3] The system cannot find the path specified: 'stockdir'"
     ]
    }
   ],
   "source": [
    "from shutil import copyfile\n",
    "\n",
    "alldown=os.listdir(\"filtered\")\n",
    "alldays=[]\n",
    "dayrange=3000\n",
    "buffer=30\n",
    "skipped=0\n",
    "ran=0\n",
    "filtersave=True\n",
    "ncorr=50\n",
    "allopen=pd.DataFrame()\n",
    "for ialld,alld in enumerate(alldown):\n",
    "    symname=alld.replace(\".json\",\"\")\n",
    "    #print (alld)\n",
    "    if ialld%50==0:\n",
    "        print (ialld,\"/\",len(alldown))\n",
    "    #if ialld>50:\n",
    "     #   break\n",
    "    try:\n",
    "        curdf=pd.read_json(\"stockdir/\"+alld)\n",
    "    except:\n",
    "        print(\"Err\")\n",
    "        continue\n",
    "    alldays.append(curdf.shape[0])\n",
    "    meandist=[]\n",
    "    if (curdf.shape[0]>dayrange):\n",
    "\n",
    "\n",
    "        curdf=curdf.iloc[-(dayrange+buffer):-buffer,:]\n",
    "\n",
    "\n",
    "        mergeframe=(curdf.loc[:,\"Open\"]+curdf.loc[:,\"Close\"])*0.5\n",
    "        highframe=curdf.loc[:,\"High\"]\n",
    "        lowframe=curdf.loc[:,\"Low\"]\n",
    "        avedist=(mergeframe-lowframe)*(highframe/lowframe)\n",
    "        print(avedist)\n",
    "        mergeframe.name=symname\n",
    "        if ran==0:\n",
    "                allopen=mergeframe\n",
    "                runningindex= (curdf.iloc[-dayrange:,:].index)\n",
    "                curdf=curdf.loc[runningindex,:]\n",
    "        else:\n",
    "                if (curdf.index.difference(runningindex).shape[0]>0):\n",
    "                    print(\"date mismatch, skipping...\")\n",
    "                    continue\n",
    "                else:   \n",
    "                    try:\n",
    "                        curdf=curdf.loc[runningindex,:]\n",
    "                    except:\n",
    "                        print(\"Unknown Error\")\n",
    "                        continue\n",
    "\n",
    "                allopen=pd.concat((allopen,mergeframe),axis=1) \n",
    "\n",
    "\n",
    "\n",
    "        if (filtersave):\n",
    "            curdf.to_json(\"stockdir/filtered/\"+alld)\n",
    "        #print (curdf.shape)\n",
    "        ran+=1\n",
    "    else:\n",
    "        skipped+=1\n",
    "        continue\n",
    "covmat = allopen.corr()\n",
    "covmatabs=covmat.abs()\n",
    "for col in covmat.columns:\n",
    "    absort=covmatabs.loc[col].sort_values()[-(ncorr+1):-1].index\n",
    "    if (filtersave):\n",
    "        covmat.loc[col][absort].to_json(\"stockdir/filtered/corr_\"+col+\".json\")\n",
    "plt.imshow(covmatabs)\n",
    "\n",
    "\n",
    "#print(skipped/len(alldown))\n",
    "#plt.hist(alldays)"
   ]
  },
  {
   "cell_type": "code",
   "execution_count": 52,
   "id": "a1c9a142",
   "metadata": {},
   "outputs": [
    {
     "name": "stdout",
     "output_type": "stream",
     "text": [
      "0.3719758064516129\n"
     ]
    }
   ],
   "source": [
    "nppalld=np.array(alldays)\n",
    "print(len(nppalld[nppalld>(3000)])/len(nppalld))\n"
   ]
  },
  {
   "cell_type": "code",
   "execution_count": null,
   "id": "9b40af2e",
   "metadata": {},
   "outputs": [],
   "source": []
  }
 ],
 "metadata": {
  "kernelspec": {
   "display_name": "Python 3",
   "language": "python",
   "name": "python3"
  },
  "language_info": {
   "codemirror_mode": {
    "name": "ipython",
    "version": 3
   },
   "file_extension": ".py",
   "mimetype": "text/x-python",
   "name": "python",
   "nbconvert_exporter": "python",
   "pygments_lexer": "ipython3",
   "version": "3.9.5"
  }
 },
 "nbformat": 4,
 "nbformat_minor": 5
}

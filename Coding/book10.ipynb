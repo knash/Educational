{
 "cells": [
  {
   "cell_type": "code",
   "execution_count": 2,
   "id": "637b2a46",
   "metadata": {},
   "outputs": [],
   "source": [
    "import sys\n",
    "sys.path.append('/usr/local/lib/python3.9/site-packages/')\n",
    "\n",
    "\n",
    "import seaborn as sns\n",
    "import bisect\n",
    "import math\n",
    "import matplotlib as plt\n",
    "import pandas as pd\n",
    "from pandas import Series,DataFrame\n",
    "import matplotlib\n",
    "import matplotlib.pyplot as plt\n",
    "import numpy as np\n",
    "import copy\n",
    "import json\n",
    "import lxml\n",
    "from lxml import objectify \n",
    "from datetime import datetime\n",
    "import scipy\n",
    "from dateutil.parser import parse"
   ]
  },
  {
   "cell_type": "code",
   "execution_count": 3,
   "id": "5d5fb7b5",
   "metadata": {},
   "outputs": [
    {
     "name": "stdout",
     "output_type": "stream",
     "text": [
      "0     apple\n",
      "1     apple\n",
      "2     apple\n",
      "3    orange\n",
      "4     apple\n",
      "5     apple\n",
      "6     apple\n",
      "7    orange\n",
      "Name: fruit, dtype: category\n",
      "Categories (2, object): ['apple', 'orange']\n",
      "[0 0 0 1 0 0 0 1]\n"
     ]
    }
   ],
   "source": [
    "#categorial tipe in pandas (good for ML!)\n",
    "fruits=[\"apple\",\"apple\",\"apple\",\"orange\"]*2\n",
    "Nf= len(fruits)\n",
    "fruitframe=pd.DataFrame({\"basketid\":np.arange(Nf),\"fruit\":fruits,\"count\":np.random.randint(0,10,Nf),\"weight\":np.random.uniform(0,10,Nf)})\n",
    "fruitcat=fruitframe[\"fruit\"].astype(\"category\")\n",
    "print(fruitcat)\n",
    "print(fruitcat.values.codes)"
   ]
  },
  {
   "cell_type": "code",
   "execution_count": 4,
   "id": "49965598",
   "metadata": {},
   "outputs": [
    {
     "name": "stdout",
     "output_type": "stream",
     "text": [
      "[0 0 1 1 2 1 0]\n"
     ]
    },
    {
     "data": {
      "text/html": [
       "<div>\n",
       "<style scoped>\n",
       "    .dataframe tbody tr th:only-of-type {\n",
       "        vertical-align: middle;\n",
       "    }\n",
       "\n",
       "    .dataframe tbody tr th {\n",
       "        vertical-align: top;\n",
       "    }\n",
       "\n",
       "    .dataframe thead th {\n",
       "        text-align: right;\n",
       "    }\n",
       "</style>\n",
       "<table border=\"1\" class=\"dataframe\">\n",
       "  <thead>\n",
       "    <tr style=\"text-align: right;\">\n",
       "      <th></th>\n",
       "      <th>zoop</th>\n",
       "      <th>bloop</th>\n",
       "      <th>taco</th>\n",
       "    </tr>\n",
       "  </thead>\n",
       "  <tbody>\n",
       "    <tr>\n",
       "      <th>0</th>\n",
       "      <td>1</td>\n",
       "      <td>0</td>\n",
       "      <td>0</td>\n",
       "    </tr>\n",
       "    <tr>\n",
       "      <th>1</th>\n",
       "      <td>1</td>\n",
       "      <td>0</td>\n",
       "      <td>0</td>\n",
       "    </tr>\n",
       "    <tr>\n",
       "      <th>2</th>\n",
       "      <td>0</td>\n",
       "      <td>1</td>\n",
       "      <td>0</td>\n",
       "    </tr>\n",
       "    <tr>\n",
       "      <th>3</th>\n",
       "      <td>0</td>\n",
       "      <td>1</td>\n",
       "      <td>0</td>\n",
       "    </tr>\n",
       "    <tr>\n",
       "      <th>4</th>\n",
       "      <td>0</td>\n",
       "      <td>0</td>\n",
       "      <td>1</td>\n",
       "    </tr>\n",
       "    <tr>\n",
       "      <th>5</th>\n",
       "      <td>0</td>\n",
       "      <td>1</td>\n",
       "      <td>0</td>\n",
       "    </tr>\n",
       "    <tr>\n",
       "      <th>6</th>\n",
       "      <td>1</td>\n",
       "      <td>0</td>\n",
       "      <td>0</td>\n",
       "    </tr>\n",
       "  </tbody>\n",
       "</table>\n",
       "</div>"
      ],
      "text/plain": [
       "   zoop  bloop  taco\n",
       "0     1      0     0\n",
       "1     1      0     0\n",
       "2     0      1     0\n",
       "3     0      1     0\n",
       "4     0      0     1\n",
       "5     0      1     0\n",
       "6     1      0     0"
      ]
     },
     "execution_count": 4,
     "metadata": {},
     "output_type": "execute_result"
    }
   ],
   "source": [
    "#you can go the other way too\n",
    "catsstr=[\"zoop\",\"bloop\",\"taco\"]\n",
    "cats=pd.Categorical.from_codes([0,0,1,1,2,1,0],catsstr)\n",
    "print (cats.codes)\n",
    "#One hot encoding \n",
    "pd.get_dummies(cats)"
   ]
  },
  {
   "cell_type": "code",
   "execution_count": 16,
   "id": "269d08c7",
   "metadata": {},
   "outputs": [
    {
     "name": "stdout",
     "output_type": "stream",
     "text": [
      "(3, 10)\n",
      "(10,)\n",
      "[[ 0  1  2  3  4  5  6  7  8  9]\n",
      " [10 11 12 13 14 15 16 17 18 19]\n",
      " [20 21 22 23 24 25 26 27 28 29]]\n",
      "[-1  0  1  2  3  4  5  6  7  8]\n",
      "[[ 1  1  1  1  1  1  1  1  1  1]\n",
      " [11 11 11 11 11 11 11 11 11 11]\n",
      " [21 21 21 21 21 21 21 21 21 21]]\n",
      "[[  0   0   2   6  12  20  30  42  56  72]\n",
      " [-10   0  12  26  42  60  80 102 126 152]\n",
      " [-20   0  22  46  72 100 130 162 196 232]]\n"
     ]
    }
   ],
   "source": [
    "#Advanced Numpy\n",
    "#Broadcasting -- taking a low dim object through a high dim object\n",
    "nparr=np.arange(5)\n",
    "nparr*5\n",
    "#Broadcasting works if all of the dimensions match and one is 1. \n",
    "#then broadcat over \"1\" dimension\n",
    "\n",
    "#row\n",
    "\n",
    "nparr1=np.arange(30).reshape(3,-1)\n",
    "print (nparr1.shape)\n",
    "brarr=np.arange(10)-1\n",
    "print (brarr.shape)\n",
    "print (nparr1)\n",
    "\n",
    "print (brarr)\n",
    "\n",
    "print (nparr1-brarr)\n",
    "print (nparr1*brarr)"
   ]
  },
  {
   "cell_type": "code",
   "execution_count": 22,
   "id": "9f2d9ec5",
   "metadata": {},
   "outputs": [
    {
     "name": "stdout",
     "output_type": "stream",
     "text": [
      "(3, 10)\n",
      "(3, 1)\n",
      "[[ 0  1  2  3  4  5  6  7  8  9]\n",
      " [10 11 12 13 14 15 16 17 18 19]\n",
      " [20 21 22 23 24 25 26 27 28 29]]\n",
      "[[-1]\n",
      " [ 0]\n",
      " [ 1]]\n",
      "[[ 1  2  3  4  5  6  7  8  9 10]\n",
      " [10 11 12 13 14 15 16 17 18 19]\n",
      " [19 20 21 22 23 24 25 26 27 28]]\n",
      "[[ 0 -1 -2 -3 -4 -5 -6 -7 -8 -9]\n",
      " [ 0  0  0  0  0  0  0  0  0  0]\n",
      " [20 21 22 23 24 25 26 27 28 29]]\n"
     ]
    }
   ],
   "source": [
    "#column\n",
    "\n",
    "nparr1=np.arange(30).reshape(3,-1)\n",
    "print (nparr1.shape)\n",
    "brarr=(np.arange(3)-1).reshape(3,1)\n",
    "\n",
    "print (brarr.shape)\n",
    "print (nparr1)\n",
    "print (brarr)\n",
    "\n",
    "print (nparr1-brarr)\n",
    "print (nparr1*brarr)\n",
    "\n",
    "#numoy also has structured array which alllow multi-dtype.  kinda similat to a dataframe\n"
   ]
  },
  {
   "cell_type": "code",
   "execution_count": null,
   "id": "76b60e33",
   "metadata": {},
   "outputs": [],
   "source": []
  },
  {
   "cell_type": "code",
   "execution_count": null,
   "id": "c9dc99e4",
   "metadata": {},
   "outputs": [],
   "source": []
  },
  {
   "cell_type": "code",
   "execution_count": null,
   "id": "589a9888",
   "metadata": {},
   "outputs": [],
   "source": []
  },
  {
   "cell_type": "code",
   "execution_count": null,
   "id": "44ae1da5",
   "metadata": {},
   "outputs": [],
   "source": []
  },
  {
   "cell_type": "code",
   "execution_count": null,
   "id": "a6bd796a",
   "metadata": {},
   "outputs": [],
   "source": []
  }
 ],
 "metadata": {
  "kernelspec": {
   "display_name": "Python 3",
   "language": "python",
   "name": "python3"
  },
  "language_info": {
   "codemirror_mode": {
    "name": "ipython",
    "version": 3
   },
   "file_extension": ".py",
   "mimetype": "text/x-python",
   "name": "python",
   "nbconvert_exporter": "python",
   "pygments_lexer": "ipython3",
   "version": "3.9.5"
  }
 },
 "nbformat": 4,
 "nbformat_minor": 5
}

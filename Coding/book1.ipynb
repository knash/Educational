{
 "cells": [
  {
   "cell_type": "code",
   "execution_count": 49,
   "id": "2b2bda90",
   "metadata": {},
   "outputs": [
    {
     "name": "stdout",
     "output_type": "stream",
     "text": [
      "[ 0  1  2  3  4  5  6  7  8  9 10 11 12 13 14 15 16 17 18 19 20 21 22 23\n",
      " 24 25 26 27 28 29 30 31 32 33 34 35 36 37 38 39 40 41 42 43]\n"
     ]
    }
   ],
   "source": [
    "import sys\n",
    "sys.path.append('/usr/local/lib/python3.9/site-packages/')\n",
    "import numpy as np\n",
    "data=[]\n",
    "for ii in range(44):\n",
    "    data.append(ii)\n",
    "data = np.array(data)\n",
    "print (data)"
   ]
  },
  {
   "cell_type": "code",
   "execution_count": 1,
   "id": "fbd424f9",
   "metadata": {},
   "outputs": [
    {
     "name": "stdout",
     "output_type": "stream",
     "text": [
      "{'0': 0, '1': 1, '2': 2, '3': 3, '4': 4, '5': 5, '6': 6, '7': 7, '8': 8, '9': 9, '10': 10, '11': 11, '12': 12, '13': 13, '14': 14, '15': 15, '16': 16, '17': 17, '18': 18, '19': 19, '20': 20, '21': 21, '22': 22, '23': 23, '24': 24, '25': 25, '26': 26, '27': 27, '28': 28, '29': 29, '30': 30, '31': 31, '32': 32, '33': 33, '34': 34, '35': 35, '36': 36, '37': 37, '38': 38, '39': 39, '40': 40, '41': 41, '42': 42, '43': 43}\n",
      "<class 'dict'>\n",
      "True\n",
      "False\n"
     ]
    }
   ],
   "source": [
    "#isinstace for datatype checking\n",
    "data={}\n",
    "for ii in range(44):\n",
    "    data[str(ii)]= ii\n",
    "print (data)\n",
    "print (type(data))\n",
    "print (isinstance(data,dict))\n",
    "print (isinstance(data,int))"
   ]
  },
  {
   "cell_type": "code",
   "execution_count": 2,
   "id": "f43774a5",
   "metadata": {},
   "outputs": [
    {
     "name": "stdout",
     "output_type": "stream",
     "text": [
      "0\n",
      "foo\n",
      "1\n"
     ]
    }
   ],
   "source": [
    "a=\"foo\"\n",
    "print(a.find(\"f\"))\n",
    "print(a)\n",
    "gg=getattr(a,'find')\n",
    "print(gg(\"o\"))"
   ]
  },
  {
   "cell_type": "code",
   "execution_count": 3,
   "id": "7b1eba08",
   "metadata": {},
   "outputs": [
    {
     "name": "stdout",
     "output_type": "stream",
     "text": [
      "['taco', 1, [4, 5, 8]]\n",
      "[2, 1, [4, 5, 8]]\n",
      "('taco', 1, [4, 5, 8])\n",
      "taco\n"
     ]
    }
   ],
   "source": [
    "#mutable means changeabe, immutable means not\n",
    "mute = [\"taco\",1,[4,5,8]]\n",
    "print(mute)\n",
    "mute[0]=2\n",
    "print(mute)\n",
    "immute = (\"taco\",1,[4,5,8])\n",
    "print (immute)\n",
    "print(immute[0])\n",
    "#immute[0]=2\n",
    "#print(immute[0])"
   ]
  },
  {
   "cell_type": "code",
   "execution_count": 37,
   "id": "73b231b0",
   "metadata": {},
   "outputs": [],
   "source": [
    "#Scalar means single value objects\n",
    "Sn=None\n",
    "Si=int\n",
    "Sf=float\n",
    "Sb=bytes\n",
    "Sbo=bool"
   ]
  },
  {
   "cell_type": "code",
   "execution_count": 46,
   "id": "8926b933",
   "metadata": {},
   "outputs": [
    {
     "name": "stdout",
     "output_type": "stream",
     "text": [
      "1\n",
      "a\n",
      "aaaa\n",
      "1\n",
      "\n"
     ]
    }
   ],
   "source": [
    "string=\"tacos\"\n",
    "string1=\"\"\"aaaaaaa\n",
    "1\n",
    "2\n",
    "1\n",
    "\"\"\"\n",
    "print (string1.count('2'))\n",
    "print (string1[0])\n",
    "print (string1[3:-4])\n",
    "\n"
   ]
  },
  {
   "cell_type": "code",
   "execution_count": 54,
   "id": "77cf3baa",
   "metadata": {},
   "outputs": [
    {
     "name": "stdout",
     "output_type": "stream",
     "text": [
      "this\tstring\\\\sucks\n",
      "this\\tstring\\\\\\\\sucks\n"
     ]
    }
   ],
   "source": [
    "string2=\"this\\tstring\\\\\\\\sucks\"\n",
    "string3=r\"this\\tstring\\\\\\\\sucks\"\n",
    "\n",
    "print (string2)\n",
    "print (string3)"
   ]
  },
  {
   "cell_type": "code",
   "execution_count": 53,
   "id": "38099d5d",
   "metadata": {},
   "outputs": [
    {
     "name": "stdout",
     "output_type": "stream",
     "text": [
      "6\n"
     ]
    }
   ],
   "source": [
    "#tenary expressions\n",
    "ten=5 if False else 6\n",
    "print(ten)"
   ]
  },
  {
   "cell_type": "code",
   "execution_count": null,
   "id": "eef2b88e",
   "metadata": {},
   "outputs": [],
   "source": []
  }
 ],
 "metadata": {
  "kernelspec": {
   "display_name": "Python 3",
   "language": "python",
   "name": "python3"
  },
  "language_info": {
   "codemirror_mode": {
    "name": "ipython",
    "version": 3
   },
   "file_extension": ".py",
   "mimetype": "text/x-python",
   "name": "python",
   "nbconvert_exporter": "python",
   "pygments_lexer": "ipython3",
   "version": "3.9.5"
  }
 },
 "nbformat": 4,
 "nbformat_minor": 5
}

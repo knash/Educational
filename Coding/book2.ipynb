{
 "cells": [
  {
   "cell_type": "code",
   "execution_count": 40,
   "id": "493bf190",
   "metadata": {},
   "outputs": [],
   "source": [
    "import sys\n",
    "import bisect\n",
    "import math\n",
    "\n",
    "sys.path.append('/usr/local/lib/python3.9/site-packages/')\n",
    "import numpy as np"
   ]
  },
  {
   "cell_type": "code",
   "execution_count": 41,
   "id": "80147bab",
   "metadata": {},
   "outputs": [
    {
     "name": "stdout",
     "output_type": "stream",
     "text": [
      "('a', 1, [1, 2, 3])\n",
      "('a', 1, [1, 2, 3])\n",
      "[0, 2, 0, 0, 0]\n",
      "1\n",
      "1 [1, 2, 3]\n",
      "[0, 2, 0, 0, 0, 'aaa']\n",
      "[0, 2, 'bbb', 0, 0, 0, 'aaa']\n",
      "[0, 2, 0, 0, 0, 'aaa']\n"
     ]
    }
   ],
   "source": [
    "#tuples\n",
    "tup=(\"a\",1,[1,2,3])\n",
    "print (tup)\n",
    "#can convert any list \n",
    "tupv=[\"a\",1,[1,2,3]]\n",
    "print (tuple(tupv))\n",
    "#renders immutable\n",
    "list1=[0]*5\n",
    "list1[1]=2\n",
    "print(list1)\n",
    "t1,t2,t3=tup\n",
    "print(t2)\n",
    "t1,*d=tup\n",
    "print (*d)\n",
    "list1.append(\"aaa\")\n",
    "print(list1)\n",
    "list1.insert(2,\"bbb\")\n",
    "print(list1)\n",
    "list1.pop(2)\n",
    "print(list1)"
   ]
  },
  {
   "cell_type": "code",
   "execution_count": 42,
   "id": "373958cb",
   "metadata": {},
   "outputs": [
    {
     "name": "stdout",
     "output_type": "stream",
     "text": [
      "['aaa', 'bbb', 'd', 'eeeee', 'cccc', 'f']\n",
      "['aaa', 'bbb', 'cccc', 'd', 'eeeee', 'f']\n",
      "['d', 'f', 'aaa', 'bbb', 'cccc', 'eeeee']\n"
     ]
    }
   ],
   "source": [
    "list2=[\"aaa\",\"bbb\",\"d\",\"eeeee\",\"cccc\",\"f\"]\n",
    "print (list2)\n",
    "list2.sort()\n",
    "print (list2)\n",
    "list2.sort(key=len)\n",
    "print (list2)"
   ]
  },
  {
   "cell_type": "code",
   "execution_count": 43,
   "id": "b3a21f36",
   "metadata": {},
   "outputs": [
    {
     "name": "stdout",
     "output_type": "stream",
     "text": [
      "['aaa', 'bbb', 'cccc', 'd', 'eeeee', 'f']\n",
      "2\n",
      "4\n",
      "None\n",
      "['aaa', 'ab', 'bbb', 'cccc', 'd', 'eeeee', 'f']\n",
      "['ab', 'bbb', 'cccc', 'd']\n",
      "['ab', 'bbb', 'cccc', 'd', 'eeeee', 'f']\n"
     ]
    }
   ],
   "source": [
    "list3=[\"aaa\",\"bbb\",\"cccc\",\"d\",\"eeeee\",\"f\"]\n",
    "print(list3)\n",
    "#Look in sorted list and see where to put something\n",
    "print(bisect.bisect(list3,'bc'))\n",
    "print(bisect.bisect(list3,'de'))\n",
    "#Put it there!\n",
    "print(bisect.insort(list3,'ab'))\n",
    "print(list3)\n",
    "print(list3[1:5])\n",
    "print(list3[1::])"
   ]
  },
  {
   "cell_type": "code",
   "execution_count": 44,
   "id": "0b6ec32e",
   "metadata": {},
   "outputs": [
    {
     "name": "stdout",
     "output_type": "stream",
     "text": [
      "[(1, [2, 2, 3, 4]), ('bbb', 6), ([2, 3], 'g')]\n",
      "0 1 [2, 2, 3, 4]\n",
      "1 bbb 6\n",
      "2 [2, 3] g\n"
     ]
    }
   ],
   "source": [
    "#Zip pairs indices\n",
    "list3=[1,\"bbb\",[2,3]]\n",
    "list4=[[2,2,3,4],6,\"g\"]\n",
    "zipped=zip(list3,list4)\n",
    "print(list(zipped))\n",
    "for i,(zipi,zipj) in enumerate(zip(list3,list4)):\n",
    "    print(i,zipi,zipj)\n"
   ]
  },
  {
   "cell_type": "code",
   "execution_count": 45,
   "id": "39f4e3eb",
   "metadata": {},
   "outputs": [
    {
     "name": "stdout",
     "output_type": "stream",
     "text": [
      "{1, 99, 5, 6}\n",
      "{2, 4, 5, 6, 7, 8}\n",
      "{5, 6}\n",
      "{5, 6}\n",
      "{1, 2, 99, 4, 5, 6, 7, 8}\n",
      "{1, 2, 99, 4, 5, 6, 7, 8}\n"
     ]
    }
   ],
   "source": [
    "#set is unique and unordered\n",
    "set1={99,1,1,1,1,1,1,5,6}\n",
    "print (set1)\n",
    "set2={4,5,7,2,6,5,6,8}\n",
    "print (set2)\n",
    "print(set1.intersection(set2))\n",
    "print(set1&set2)\n",
    "\n",
    "print(set1.union(set2))\n",
    "print(set1|set2)\n"
   ]
  },
  {
   "cell_type": "code",
   "execution_count": 46,
   "id": "3ae64111",
   "metadata": {},
   "outputs": [
    {
     "name": "stdout",
     "output_type": "stream",
     "text": [
      "['ccccf', 'eeeeef']\n"
     ]
    }
   ],
   "source": [
    "#List comprehension\n",
    "list3=[\"aaa\",\"bbb\",\"cccc\",\"d\",\"eeeee\",\"f\"]\n",
    "filterlist=[ll+\"f\" for ll in list3 if len(ll)>3]\n",
    "print(filterlist)"
   ]
  },
  {
   "cell_type": "code",
   "execution_count": 47,
   "id": "f84dfd84",
   "metadata": {},
   "outputs": [
    {
     "name": "stdout",
     "output_type": "stream",
     "text": [
      "6\n",
      "12\n"
     ]
    }
   ],
   "source": [
    "#Lambda is anonymous function\n",
    "def times2(F,n):\n",
    "    return 2*F(n)\n",
    "lamfunc= lambda x:x*2\n",
    "print(lamfunc(3))\n",
    "print(times2(lamfunc,3))\n",
    "\n"
   ]
  },
  {
   "cell_type": "code",
   "execution_count": 48,
   "id": "7ca53c80",
   "metadata": {},
   "outputs": [
    {
     "name": "stdout",
     "output_type": "stream",
     "text": [
      "TEST\n",
      "12\n"
     ]
    }
   ],
   "source": [
    "#partial allows one function to create another\n",
    "from functools import partial\n",
    "partfunc = partial(times2,lamfunc)\n",
    "print(\"TEST\")\n",
    "print(partfunc(3))"
   ]
  },
  {
   "cell_type": "code",
   "execution_count": 49,
   "id": "63e84077",
   "metadata": {},
   "outputs": [
    {
     "name": "stdout",
     "output_type": "stream",
     "text": [
      "{'a': 1, 'b': 2, 'ccc': 'taco'}\n",
      "<dict_keyiterator object at 0x1796d1a90>\n",
      "['a', 'b', 'ccc']\n",
      "0\n",
      "3\n",
      "6\n",
      "9\n",
      "12\n",
      "RESET\n",
      "0\n",
      "3\n",
      "6\n",
      "9\n",
      "12\n"
     ]
    }
   ],
   "source": [
    "#Python attempts to turn objects into iterators\n",
    "dict1={\"a\":1,\"b\":2,\"ccc\":\"taco\"}\n",
    "print (dict1)\n",
    "print (iter(dict1))\n",
    "print (list(iter(dict1)))\n",
    "#To create a new iterator, use a generator\n",
    "#Just a function with yield instead of return\n",
    "def dumbit(argu):\n",
    "    for iii in range(5):\n",
    "        yield argu*iii\n",
    "dumb_iterator=dumbit(3)\n",
    "for jjj in range(10):\n",
    "    #using none to catch StopIteration\n",
    "    curit = next(dumb_iterator,None)\n",
    "    if curit==None:\n",
    "        print (\"RESET\")\n",
    "        dumb_iterator=dumbit(3)\n",
    "        curit = next(dumb_iterator,None)\n",
    "\n",
    "    print (curit)"
   ]
  },
  {
   "cell_type": "code",
   "execution_count": 51,
   "id": "65524ab2",
   "metadata": {},
   "outputs": [
    {
     "data": {
      "text/plain": [
       "1.4142135623730951"
      ]
     },
     "execution_count": 51,
     "metadata": {},
     "output_type": "execute_result"
    }
   ],
   "source": [
    "#Exceptions in python\n",
    "def squarert(n):\n",
    "    if (n>0.0):\n",
    "        return math.sqrt(n)\n",
    "    else:\n",
    "        raise Exception(\"ValueError\")\n",
    "squarert(2)\n",
    "#squarert(-2)\n",
    "            "
   ]
  },
  {
   "cell_type": "code",
   "execution_count": 74,
   "id": "9e690ac5",
   "metadata": {},
   "outputs": [
    {
     "name": "stdout",
     "output_type": "stream",
     "text": [
      "12\n",
      "345\n",
      "232\n",
      "6565\n",
      "888\n",
      "fff\n",
      "222\n",
      "sss\n",
      "444\n",
      "3\n",
      "2\n",
      "2\n",
      "1\n",
      "4\n",
      "5\n",
      "6\n",
      "6\n",
      "7\n",
      "7\n",
      "8\n",
      "8\n",
      "89\n",
      "\n",
      "0\n",
      "1\n",
      "2\n",
      "3\n",
      "4\n",
      "5\n",
      "6\n",
      "7\n",
      "8\n",
      "9\n",
      "10\n",
      "11\n",
      "12\n",
      "13\n",
      "14\n",
      "15\n",
      "16\n",
      "17\n",
      "18\n",
      "19\n",
      "\n"
     ]
    }
   ],
   "source": [
    "#opening files is baller easy\n",
    "ff = open(\"dumbcsv.csv\")\n",
    "#print (ff.read(5))\n",
    "#print (ff.readline())\n",
    "\n",
    "for icff in ff:\n",
    "    for icll,clll in enumerate (icff.split(\",\")):\n",
    "        print (clll)\n",
    "#Need to close \n",
    "ff.close()\n",
    "#\"with\" auto-closes\n",
    "\n",
    "with open(\"newdumbcsv.csv\",\"w\") as ff:\n",
    "    for xx in range(20):\n",
    "        ff.write(str(xx)+\",\")\n",
    "with open(\"newdumbcsv.csv\") as ff:\n",
    "    for icff in ff:\n",
    "        for icll,clll in enumerate (icff.split(\",\")):\n",
    "            print (clll)\n"
   ]
  },
  {
   "cell_type": "code",
   "execution_count": null,
   "id": "1e181ab2",
   "metadata": {},
   "outputs": [],
   "source": []
  },
  {
   "cell_type": "code",
   "execution_count": null,
   "id": "d0417cb7",
   "metadata": {},
   "outputs": [],
   "source": []
  },
  {
   "cell_type": "code",
   "execution_count": null,
   "id": "29d727a0",
   "metadata": {},
   "outputs": [],
   "source": []
  },
  {
   "cell_type": "code",
   "execution_count": null,
   "id": "69dc6282",
   "metadata": {},
   "outputs": [],
   "source": []
  },
  {
   "cell_type": "code",
   "execution_count": null,
   "id": "d793f93e",
   "metadata": {},
   "outputs": [],
   "source": []
  }
 ],
 "metadata": {
  "kernelspec": {
   "display_name": "Python 3",
   "language": "python",
   "name": "python3"
  },
  "language_info": {
   "codemirror_mode": {
    "name": "ipython",
    "version": 3
   },
   "file_extension": ".py",
   "mimetype": "text/x-python",
   "name": "python",
   "nbconvert_exporter": "python",
   "pygments_lexer": "ipython3",
   "version": "3.9.5"
  }
 },
 "nbformat": 4,
 "nbformat_minor": 5
}

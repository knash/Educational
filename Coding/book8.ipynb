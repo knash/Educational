{
 "cells": [
  {
   "cell_type": "code",
   "execution_count": 2,
   "id": "ae949849",
   "metadata": {},
   "outputs": [],
   "source": [
    "import sys\n",
    "sys.path.append('/usr/local/lib/python3.9/site-packages/')\n",
    "\n",
    "\n",
    "import seaborn as sns\n",
    "import bisect\n",
    "import math\n",
    "import matplotlib as plt\n",
    "import pandas as pd\n",
    "from pandas import Series,DataFrame\n",
    "import matplotlib\n",
    "import matplotlib.pyplot as plt\n",
    "import numpy as np\n",
    "import copy\n",
    "import json\n",
    "import lxml\n",
    "from lxml import objectify \n"
   ]
  },
  {
   "cell_type": "code",
   "execution_count": 76,
   "id": "fe93628d",
   "metadata": {},
   "outputs": [
    {
     "name": "stdout",
     "output_type": "stream",
     "text": [
      "  key1 key2  data1  data2\n",
      "0    a  one      0      0\n",
      "1    a  two      1      1\n",
      "2    a  one      2      2\n",
      "3    b  two      3      3\n",
      "4    b  one      4      4\n",
      "key1\n",
      "a    1.0\n",
      "b    3.5\n",
      "Name: data1, dtype: float64\n",
      "a      2\n",
      "one    2\n",
      "two    2\n",
      "Name: data1, dtype: int64\n",
      "key1  key2\n",
      "a     one     1\n",
      "      two     1\n",
      "b     one     4\n",
      "      two     3\n",
      "Name: data1, dtype: int64\n"
     ]
    }
   ],
   "source": [
    "#Processing DataFrames.  Split, apply, combine \n",
    "df=pd.DataFrame({\n",
    "                \"key1\":[\"a\",\"a\",\"a\",\"b\",\"b\"],\n",
    "                \"key2\":[\"one\",\"two\",\"one\",\"two\",\"one\"],\n",
    "                \"data1\":np.arange(5),\n",
    "                \"data2\":np.arange(5)\n",
    "                })\n",
    "print(df)\n",
    "#groupby is series grouped by another series as the index -- confusing... \n",
    "grouped=df[\"data1\"].groupby(df[\"key1\"])\n",
    "print(grouped.mean())\n",
    "grouped=df[\"data1\"].groupby([\"one\",\"two\",\"a\",\"two\",\"one\"])\n",
    "print(grouped.mean())\n",
    "#OR an array of Series for hierarchical indexing \n",
    "grouped=df[\"data1\"].groupby([df[\"key1\"],df[\"key2\"]])\n",
    "print(grouped.mean())\n",
    "\n",
    "\n"
   ]
  },
  {
   "cell_type": "code",
   "execution_count": 77,
   "id": "345f4d1c",
   "metadata": {},
   "outputs": [
    {
     "name": "stdout",
     "output_type": "stream",
     "text": [
      "  key1 key2  data1  data2\n",
      "0    a  one      0      0\n",
      "1    a  two      1      1\n",
      "2    a  one      2      2\n",
      "3    b  two      3      3\n",
      "4    b  one      4      4\n",
      "      data1  data2\n",
      "key1              \n",
      "a       1.0    1.0\n",
      "b       3.5    3.5\n",
      "           data1  data2\n",
      "key1 key2              \n",
      "a    one       1      1\n",
      "     two       1      1\n",
      "b    one       4      4\n",
      "     two       3      3\n",
      "('a', 'one')\n",
      "  key1 key2  data1  data2\n",
      "0    a  one      0      0\n",
      "2    a  one      2      2\n",
      "('a', 'two')\n",
      "  key1 key2  data1  data2\n",
      "1    a  two      1      1\n",
      "('b', 'one')\n",
      "  key1 key2  data1  data2\n",
      "4    b  one      4      4\n",
      "('b', 'two')\n",
      "  key1 key2  data1  data2\n",
      "3    b  two      3      3\n"
     ]
    }
   ],
   "source": [
    "print (df)\n",
    "\n",
    "#DataFrames can be grouped using column keys\n",
    "grouped=df.groupby(\"key1\")\n",
    "print(grouped.mean())\n",
    "#Non-numerical data (ie key2) is skipped in mean action\n",
    "\n",
    "#hierarchical subgroups\n",
    "grouped=df.groupby([\"key1\",\"key2\"])\n",
    "print(grouped.mean())\n",
    "\n",
    "for gg in grouped:\n",
    "    print (gg[0])\n",
    "    print (gg[1])"
   ]
  },
  {
   "cell_type": "code",
   "execution_count": 78,
   "id": "9bb0d2d8",
   "metadata": {},
   "outputs": [
    {
     "name": "stdout",
     "output_type": "stream",
     "text": [
      "  key1 key2  data1  data2\n",
      "0    a  one      0      0\n",
      "1    a  two      1      1\n",
      "2    a  one      2      2\n",
      "3    b  two      3      3\n",
      "4    b  one      4      4\n",
      "key1     object\n",
      "key2     object\n",
      "data1     int64\n",
      "data2     int64\n",
      "dtype: object\n",
      "           data1\n",
      "key1 key2       \n",
      "a    one       1\n",
      "     two       1\n",
      "b    one       4\n",
      "     two       3\n"
     ]
    }
   ],
   "source": [
    "print (df)\n",
    "#can print types or columns\n",
    "print(df.dtypes)\n",
    "#Double bracket preserves column index\n",
    "print (df.groupby([\"key1\",\"key2\"])[[\"data1\"]].mean())\n"
   ]
  },
  {
   "cell_type": "markdown",
   "id": "d46317ee",
   "metadata": {},
   "source": []
  },
  {
   "cell_type": "markdown",
   "id": "e91be215",
   "metadata": {},
   "source": []
  },
  {
   "cell_type": "code",
   "execution_count": 79,
   "id": "b0fd1633",
   "metadata": {},
   "outputs": [
    {
     "name": "stdout",
     "output_type": "stream",
     "text": [
      "              a         b         c         d         e\n",
      "Kevin  1.694007  0.121911 -1.448885 -1.094110  1.234412\n",
      "Grace -1.470225  0.300427  0.159228  2.725676 -1.434449\n",
      "Joe   -1.033452 -0.781000  0.487357       NaN       NaN\n",
      "Tom    2.243350  1.674060 -1.299882 -0.033178 -0.991773\n",
      "Dave   0.714021  1.423635 -2.046286  0.738233  0.720318\n",
      "              x         y\n",
      "Kevin -0.848988  1.356323\n",
      "Grace  1.414679 -1.134022\n",
      "Joe   -0.546095 -0.781000\n",
      "Tom    0.910290  0.682287\n",
      "Dave  -0.594032  2.143953\n",
      "          a         b         c         d         e\n",
      "3  1.209897  0.893060 -0.812525 -0.033178 -0.991773\n",
      "4  0.714021  1.423635 -2.046286  0.738233  0.720318\n",
      "5  0.223782  0.422338 -1.289657  1.631566 -0.200037\n"
     ]
    }
   ],
   "source": [
    "df1=pd.DataFrame(np.random.randn(5,5),index=[\"Kevin\",\"Grace\",\"Joe\",\"Tom\",\"Dave\"],columns=[\"a\",\"b\",\"c\",\"d\",\"e\"])\n",
    "df1.iloc[2,3:]=None\n",
    "print (df1)\n",
    "#can map one column to another\n",
    "mapping={\"a\":\"x\",\"b\":\"y\",\"c\":\"x\",\"d\":\"x\",\"e\":\"y\"}\n",
    "print (df1.groupby(mapping,axis=1).sum())\n",
    "\n",
    "#can use a python function to group based on output\n",
    "#This is the name length\n",
    "print (df1.groupby(len).sum())"
   ]
  },
  {
   "cell_type": "code",
   "execution_count": 102,
   "id": "151c8218",
   "metadata": {},
   "outputs": [
    {
     "name": "stdout",
     "output_type": "stream",
     "text": [
      "  key1 key2  data1  data2\n",
      "0    a  one      0      0\n",
      "1    a  two      1      1\n",
      "2    a  one      2      2\n",
      "3    b  two      3      3\n",
      "4    b  one      4      4\n",
      "\n",
      "key1\n",
      "a    1.4\n",
      "b    3.7\n",
      "Name: data1, dtype: float64\n",
      "\n",
      "      mean       std\n",
      "key1                \n",
      "a      1.0  1.000000\n",
      "b      3.5  0.707107\n",
      "\n",
      "     data1         data2    \n",
      "      mean max       std min\n",
      "key1                        \n",
      "a      1.0   2  1.000000   0\n",
      "b      3.5   4  0.707107   3\n"
     ]
    }
   ],
   "source": [
    "#Aggregation means taking an array and outputting a scalar\n",
    "print(df)\n",
    "print()\n",
    "print(df.groupby(\"key1\")[\"data1\"].quantile(.7))\n",
    "print()\n",
    "\n",
    "print(df.groupby(\"key1\")[\"data1\"].agg([\"mean\",\"std\"]))\n",
    "print()\n",
    "#return, you can do all sorts of bonkers stuff\n",
    "\n",
    "#different stuff per axis by dict\n",
    "print(df.groupby(\"key1\").agg({\"data1\":[\"mean\",\"max\"],\"data2\":[\"std\",\"min\"]}))\n"
   ]
  },
  {
   "cell_type": "code",
   "execution_count": 127,
   "id": "4a14e151",
   "metadata": {},
   "outputs": [
    {
     "name": "stdout",
     "output_type": "stream",
     "text": [
      "\n"
     ]
    }
   ],
   "source": [
    "#Apply is the general aggrigate function\n",
    "\n",
    "print()\n",
    "def maxn(xdf,xnum,keyval=\"key1\"):\n",
    "    return xdf.sort_values(by=keyval)[-xnum:]\n",
    "top= maxn(df,xnum=3)\n",
    "#df.groupby(\"key1\").apply(top)\n",
    "#idk, return to.  also, pivot tables and cross tabulation"
   ]
  },
  {
   "cell_type": "code",
   "execution_count": null,
   "id": "e1a203bb",
   "metadata": {},
   "outputs": [],
   "source": []
  }
 ],
 "metadata": {
  "kernelspec": {
   "display_name": "Python 3",
   "language": "python",
   "name": "python3"
  },
  "language_info": {
   "codemirror_mode": {
    "name": "ipython",
    "version": 3
   },
   "file_extension": ".py",
   "mimetype": "text/x-python",
   "name": "python",
   "nbconvert_exporter": "python",
   "pygments_lexer": "ipython3",
   "version": "3.9.5"
  }
 },
 "nbformat": 4,
 "nbformat_minor": 5
}

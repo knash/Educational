{
 "cells": [
  {
   "cell_type": "code",
   "execution_count": 18,
   "id": "ea39dae7",
   "metadata": {},
   "outputs": [],
   "source": [
    "import sys\n",
    "sys.path.append('/usr/local/lib/python3.9/site-packages/')\n",
    "import bisect\n",
    "import math\n",
    "import matplotlib as plt\n",
    "import matplotlib.pyplot as plt\n",
    "import numpy as np"
   ]
  },
  {
   "cell_type": "code",
   "execution_count": 19,
   "id": "cfcc78f2",
   "metadata": {},
   "outputs": [
    {
     "name": "stdout",
     "output_type": "stream",
     "text": [
      "[[ 1.95656092  0.46029304 -1.01491767  1.63729574 -0.13732951]\n",
      " [-0.55820342  0.78762172 -0.43181013 -0.46920933  0.53869469]]\n",
      "[[ 19.56560919   4.60293044 -10.14917667  16.37295741  -1.37329515]\n",
      " [ -5.58203416   7.87621718  -4.3181013   -4.69209333   5.38694693]]\n",
      "(2, 5)\n",
      "float64\n",
      "[1.1 2.2 3.5 1.1]\n",
      "[[[[0. 0.]\n",
      "   [0. 0.]]\n",
      "\n",
      "  [[0. 0.]\n",
      "   [0. 0.]]\n",
      "\n",
      "  [[0. 0.]\n",
      "   [0. 0.]]]\n",
      "\n",
      "\n",
      " [[[0. 0.]\n",
      "   [0. 0.]]\n",
      "\n",
      "  [[0. 0.]\n",
      "   [0. 0.]]\n",
      "\n",
      "  [[0. 0.]\n",
      "   [0. 0.]]]\n",
      "\n",
      "\n",
      " [[[0. 0.]\n",
      "   [0. 0.]]\n",
      "\n",
      "  [[0. 0.]\n",
      "   [0. 0.]]\n",
      "\n",
      "  [[0. 0.]\n",
      "   [0. 0.]]]]\n"
     ]
    }
   ],
   "source": [
    "#Numerical python is memory efficient and fast array manipulation.  \n",
    "#Numpy uses C language internally, so it is just as fast as C\n",
    "data = np.random.randn(2,5)\n",
    "print(data)\n",
    "#easy array operations\n",
    "print(data*10)\n",
    "print(data.shape)\n",
    "print(data.dtype)\n",
    "ddarr= [1.1,2.2,3.5,1.1]\n",
    "convarr=np.array(ddarr)\n",
    "print (convarr)\n",
    "print (np.zeros((3,3,2,2)))"
   ]
  },
  {
   "cell_type": "code",
   "execution_count": 20,
   "id": "12c63e16",
   "metadata": {},
   "outputs": [
    {
     "name": "stdout",
     "output_type": "stream",
     "text": [
      "[[ 0.04584494  0.42032945  0.42122084 -1.42378034  0.084165  ]\n",
      " [ 0.69230628  0.34766979 -0.5644396   0.59977356 -0.93522083]]\n",
      "[[ True False False  True  True]\n",
      " [ True  True False  True  True]]\n",
      "[[[[ 0.02399162  0.82149014]\n",
      "   [-0.9339973   1.34319967]]\n",
      "\n",
      "  [[-0.01307847 -0.66019429]\n",
      "   [ 0.78354448  0.52351344]]\n",
      "\n",
      "  [[-0.66935232  1.22016399]\n",
      "   [ 0.0293038   0.24059877]]]\n",
      "\n",
      "\n",
      " [[[ 0.35164682 -0.98185229]\n",
      "   [ 0.34680041  1.23090696]]\n",
      "\n",
      "  [[ 0.33614967 -0.72526418]\n",
      "   [ 0.29930158  0.60499435]]\n",
      "\n",
      "  [[ 0.04407712 -1.0486956 ]\n",
      "   [ 1.85307863 -1.3070419 ]]]]\n",
      "-1.048695596570242\n",
      "(3, 2, 2)\n",
      "[[[[-0.01307847 -0.66019429]\n",
      "   [ 0.78354448  0.52351344]]\n",
      "\n",
      "  [[-0.66935232  1.22016399]\n",
      "   [ 0.0293038   0.24059877]]]]\n"
     ]
    }
   ],
   "source": [
    "#All arithmetic operations are elementwise, so * is a dot product\n",
    "data1 = np.random.randn(2,5)\n",
    "print(data*data1)\n",
    "print(data>data1)\n",
    "data2 = np.random.randn(2,3,2,2)\n",
    "print (data2)\n",
    "print (data2[1,2,0,1])\n",
    "#Broadcasting = operations on differently sized arrays\n",
    "print (data2[0].shape)\n",
    "print (data2[:1,1:,:,:])"
   ]
  },
  {
   "cell_type": "code",
   "execution_count": 21,
   "id": "a82810e7",
   "metadata": {},
   "outputs": [
    {
     "name": "stdout",
     "output_type": "stream",
     "text": [
      "[[-0.91599365  0.31532594 -0.96339721  0.27567202]\n",
      " [ 0.23043439 -0.20452496 -0.82855848  1.69935195]\n",
      " [-1.23251348  1.41841901 -0.60363247  0.07433154]\n",
      " [-0.70647544 -0.98088936 -1.70116271 -0.93151632]\n",
      " [ 0.64899116 -0.80991655 -1.66768864 -0.48626373]]\n",
      "[-0.09891849 -0.50238894  0.18959302  0.91869528 -0.79174588]\n",
      "[ True  True False False  True]\n",
      "[[ 0.31532594 -0.96339721  0.27567202]\n",
      " [-0.20452496 -0.82855848  1.69935195]\n",
      " [-0.80991655 -1.66768864 -0.48626373]]\n",
      "[[ 1.41841901 -0.60363247  0.07433154]\n",
      " [-0.98088936 -1.70116271 -0.93151632]]\n",
      "[[-1.23251348  1.41841901 -0.60363247  0.07433154]\n",
      " [ 0.23043439 -0.20452496 -0.82855848  1.69935195]\n",
      " [-0.70647544 -0.98088936 -1.70116271 -0.93151632]]\n"
     ]
    }
   ],
   "source": [
    "#Boolean indexing allows you to filter arrays\n",
    "data1 = np.random.randn(5,4)\n",
    "data2 = np.random.randn(5)\n",
    "print(data1)\n",
    "print(data2)\n",
    "condit=data2<0\n",
    "print(condit)\n",
    "print(data1[(condit),1:])\n",
    "print(data1[~(condit),1:])\n",
    "arr=[2,1,3]\n",
    "print (data1[arr])"
   ]
  },
  {
   "cell_type": "code",
   "execution_count": 22,
   "id": "6083f114",
   "metadata": {},
   "outputs": [
    {
     "name": "stdout",
     "output_type": "stream",
     "text": [
      "[[0.20085729 1.67268807 1.16122948]\n",
      " [1.56088136 0.71632301 1.35696848]\n",
      " [1.18927318 0.00556374 1.67678528]]\n",
      "\n",
      "[[0.44817105 1.29332442 1.07760358]\n",
      " [1.24935238 0.84635868 1.1648899 ]\n",
      " [1.09053802 0.0745905  1.29490744]]\n",
      "[[0.44817105 1.29332442 1.07760358]\n",
      " [1.24935238 0.84635868 1.1648899 ]\n",
      " [1.09053802 0.0745905  1.29490744]]\n",
      "--\n",
      "[[1.21965967 0.12427086 1.98256601]\n",
      " [1.80186019 1.53657772 1.09573711]\n",
      " [0.22006956 1.92626204 1.43504083]]\n",
      "\n",
      "[[1.21965967 1.29332442 1.98256601]\n",
      " [1.80186019 1.53657772 1.1648899 ]\n",
      " [1.09053802 1.92626204 1.43504083]]\n"
     ]
    }
   ],
   "source": [
    "#Numpy has many hyper efficient matrix operations like:\n",
    "data1=np.random.uniform(0,2,(3,3))\n",
    "print(data1)\n",
    "print()\n",
    "print(np.sqrt(data1))\n",
    "#Output arhument of unary can overwrite\n",
    "np.sqrt(data1,data1)\n",
    "print(data1)\n",
    "print(\"--\")\n",
    "#called \"unary\" functions\n",
    "#binary takes two\n",
    "data2=np.random.uniform(0,2,(3,3))\n",
    "print(data2)\n",
    "print()\n",
    "print(np.maximum(data1,data2))\n",
    "\n",
    "\n",
    "\n"
   ]
  },
  {
   "cell_type": "code",
   "execution_count": 23,
   "id": "99d790f5",
   "metadata": {},
   "outputs": [
    {
     "name": "stdout",
     "output_type": "stream",
     "text": [
      "[-10.   -9.5  -9.   -8.5  -8.   -7.5  -7.   -6.5  -6.   -5.5  -5.   -4.5\n",
      "  -4.   -3.5  -3.   -2.5  -2.   -1.5  -1.   -0.5   0.    0.5   1.    1.5\n",
      "   2.    2.5   3.    3.5   4.    4.5   5.    5.5   6.    6.5   7.    7.5\n",
      "   8.    8.5   9.    9.5]\n",
      "[[-10.   -9.5  -9.  ...   8.5   9.    9.5]\n",
      " [-10.   -9.5  -9.  ...   8.5   9.    9.5]\n",
      " [-10.   -9.5  -9.  ...   8.5   9.    9.5]\n",
      " ...\n",
      " [-10.   -9.5  -9.  ...   8.5   9.    9.5]\n",
      " [-10.   -9.5  -9.  ...   8.5   9.    9.5]\n",
      " [-10.   -9.5  -9.  ...   8.5   9.    9.5]]\n"
     ]
    },
    {
     "data": {
      "text/plain": [
       "Text(0, 0.5, 'Y axis label')"
      ]
     },
     "execution_count": 23,
     "metadata": {},
     "output_type": "execute_result"
    },
    {
     "data": {
      "image/png": "[encoded data removed]",
      "text/plain": [
       "<Figure size 432x288 with 2 Axes>"
      ]
     },
     "metadata": {
      "needs_background": "light"
     },
     "output_type": "display_data"
    }
   ],
   "source": [
    "#Vectorization means \"stop using for loops, stupid\"\n",
    "points=np.arange(-10,10,.5)\n",
    "print (points)\n",
    "#Meshgid -- make all x,y permutations\n",
    "xs,ys=np.meshgrid(points,points)\n",
    "print (xs)\n",
    "z=np.sqrt(xs**4+ys**4)\n",
    "plt.imshow(z,cmap=plt.cm.spring)\n",
    "plt.colorbar()\n",
    "plt.title(\"thetitle\")\n",
    "plt.xlabel(\"X axis label\")\n",
    "plt.ylabel(\"Y axis label\")"
   ]
  },
  {
   "cell_type": "code",
   "execution_count": 24,
   "id": "4a454ece",
   "metadata": {},
   "outputs": [
    {
     "name": "stdout",
     "output_type": "stream",
     "text": [
      "[ 0.95690058 -0.74092942  1.37695123  0.15947361 -0.95823832]\n",
      "[ 1.05108112 -1.97685033 -1.61652949  0.27528702  0.94143286]\n",
      "[ True False  True False  True]\n",
      "[ 0.95690058 -1.97685033  1.37695123  0.27528702 -0.95823832]\n"
     ]
    }
   ],
   "source": [
    "#np.where is an array version of tenary python operation\n",
    "data1 = np.random.randn(5)\n",
    "data2 = np.random.randn(5)\n",
    "data3 = np.random.randn(5)\n",
    "\n",
    "print(data1)\n",
    "print(data2)\n",
    "condit=data3<0\n",
    "print(condit)\n",
    "npw=np.where(condit,data1,data2)\n",
    "print (npw)"
   ]
  },
  {
   "cell_type": "code",
   "execution_count": 25,
   "id": "265387cd",
   "metadata": {},
   "outputs": [
    {
     "name": "stdout",
     "output_type": "stream",
     "text": [
      "[[-0.56445045 -0.72540215 -1.62181854 -0.82393619]\n",
      " [-0.4407409   0.16739746 -0.09470648  0.53781829]\n",
      " [-1.20370256 -0.61337999 -0.77807094 -0.55199178]]\n",
      "0.5518415248222076\n",
      "-0.5594153509605014\n",
      "-6.712984211526018\n",
      "[-2.2088939  -1.17138468 -2.49459595 -0.83810968]\n",
      "[-3.73560733  0.16976838 -3.14714526]\n",
      "[0 1 2 3 4]\n",
      "[ 0  1  3  6 10]\n"
     ]
    }
   ],
   "source": [
    "#Aggregations in numpy to do basic stats commands\n",
    "data1 = np.random.randn(3,4)\n",
    "print(data1)\n",
    "print(data1.std())\n",
    "print(data1.mean())\n",
    "print(data1.sum())\n",
    "#argument gives action over element yielding n-1 dims\n",
    "print(data1.sum(0))\n",
    "print(data1.sum(1))\n",
    "#cumullative sum and product\n",
    "data2 = np.arange(5)\n",
    "print (data2)\n",
    "print (data2.cumsum())"
   ]
  },
  {
   "cell_type": "code",
   "execution_count": 26,
   "id": "0f5e063d",
   "metadata": {},
   "outputs": [
    {
     "name": "stdout",
     "output_type": "stream",
     "text": [
      "[[-0.8852522  -1.1646383  -0.20301405 -0.02471497]\n",
      " [-0.97570691  0.19686896 -1.58132071 -0.04963079]\n",
      " [ 0.92906313  0.40549247 -1.06038766  1.54765157]]\n",
      "[[-0.8852522  -1.1646383  -0.20301405 -0.02471497]\n",
      " [-0.97570691  0.19686896 -1.58132071 -0.04963079]\n",
      " [ 0.92906313  0.40549247 -1.06038766  1.54765157]]\n",
      "\n",
      "['aa', 'bb', 'cc']\n"
     ]
    }
   ],
   "source": [
    "#npy files\n",
    "data1 = np.random.randn(3,4)\n",
    "np.save(\"temp.npy\",data1)\n",
    "loadarr=np.load(\"temp.npy\")\n",
    "print (data1)\n",
    "print (loadarr)\n",
    "print ()\n",
    "data2 = np.random.randn(3,4)\n",
    "data3 = np.random.randn(3,4)\n",
    "#savez creates dicts of numpy arrays\n",
    "np.savez(\"temp.npz\",aa=data1,bb=data2,cc=data3)\n",
    "loadarr=np.load(\"temp.npz\")\n",
    "print (list(iter(loadarr)))\n",
    "\n"
   ]
  },
  {
   "cell_type": "code",
   "execution_count": 27,
   "id": "8041a146",
   "metadata": {},
   "outputs": [
    {
     "name": "stdout",
     "output_type": "stream",
     "text": [
      "[[-0.44925375 -0.03747635  0.39698779]\n",
      " [ 3.1548216   1.01875635 -0.5784602 ]\n",
      " [-0.1195056  -1.16667845  0.01458333]]\n",
      "[[ 1.37699001 -1.58160055 -2.14636797]\n",
      " [-1.14870298 -1.91034721  1.40525378]\n",
      " [-0.07996774  0.38753115  1.5570444 ]]\n",
      "[[ 0.56636367 -0.26246877  1.01760751]\n",
      " [-0.26977046 -0.31743924 -0.08538227]\n",
      " [ 0.09623058  0.06552707  0.71575612]]\n",
      "[[ 1.00000000e+00  1.10058200e-17 -2.84940308e-16]\n",
      " [ 7.40371359e-17  1.00000000e+00  1.32732908e-16]\n",
      " [ 3.05586555e-17  1.23149496e-17  1.00000000e+00]]\n",
      "-6.213454770944105\n",
      "1.0236871958929208\n"
     ]
    }
   ],
   "source": [
    "#linalg\n",
    "#dot product\n",
    "data1 = np.random.randn(3,3)\n",
    "data2 = np.random.randn(3,3)\n",
    "print(data2)\n",
    "data1.dot(data2)\n",
    "from numpy.linalg import inv, qr, det\n",
    "print(data1)\n",
    "print (inv(data1))\n",
    "print (data1.dot(inv(data1)))\n",
    "print (det(data1))\n",
    "print (np.trace(data1))"
   ]
  },
  {
   "cell_type": "code",
   "execution_count": 28,
   "id": "838dc614",
   "metadata": {},
   "outputs": [
    {
     "name": "stdout",
     "output_type": "stream",
     "text": [
      "[[ 1.84018305 -0.1660367   0.47335319  1.93113584]\n",
      " [ 1.01014107  2.18193458  1.65221787  2.38712609]\n",
      " [ 1.42939913  1.82191487  0.23721635  0.14798618]\n",
      " [ 0.85806713 -0.54697119  1.60231985  1.88253876]]\n",
      "\n",
      "[[0.79529234 1.47894334]\n",
      " [0.48056128 0.4442697 ]]\n",
      "[[2.96578057 2.39340583]\n",
      " [1.09290788 1.28174615]]\n",
      "[[ 1.76902257  2.24643474]\n",
      " [ 2.00718936 -0.29622111]]\n",
      "\n"
     ]
    }
   ],
   "source": [
    "#random numbers\n",
    "#numpy is orders of magnitude faster for large samples\n",
    "print (np.random.normal(1,1,(4,4)))\n",
    "#changing seed\n",
    "rng = np.random.RandomState(12345)\n",
    "print ()\n",
    "print (rng.normal(1,1,(2,2)))\n",
    "print (rng.normal(1,1,(2,2)))\n",
    "print (rng.normal(1,1,(2,2)))\n",
    "print ()\n",
    "\n"
   ]
  },
  {
   "cell_type": "code",
   "execution_count": 30,
   "id": "a8dc4b6e",
   "metadata": {},
   "outputs": [
    {
     "name": "stdout",
     "output_type": "stream",
     "text": [
      "0.2132595444075681\n"
     ]
    },
    {
     "data": {
      "text/plain": [
       "Text(0.5, 1.0, 'randdwalk')"
      ]
     },
     "execution_count": 30,
     "metadata": {},
     "output_type": "execute_result"
    },
    {
     "data": {
      "image/png": "[encoded data removed]",
      "text/plain": [
       "<Figure size 432x288 with 1 Axes>"
      ]
     },
     "metadata": {
      "needs_background": "light"
     },
     "output_type": "display_data"
    }
   ],
   "source": [
    "#random walk plt plot\n",
    "arrand =np.random.uniform(-1,1,100)\n",
    "print(np.random.uniform())\n",
    "plt.plot(np.cumsum(arrand+0.05))\n",
    "plt.xlabel(\"steps\")\n",
    "plt.ylabel(\"position\")\n",
    "plt.title(\"randdwalk\")"
   ]
  },
  {
   "cell_type": "code",
   "execution_count": 34,
   "id": "9e2e4359",
   "metadata": {},
   "outputs": [
    {
     "name": "stdout",
     "output_type": "stream",
     "text": [
      "[[1 1 1 ... 1 1 0]\n",
      " [0 0 1 ... 0 1 0]\n",
      " [1 0 0 ... 0 1 1]\n",
      " ...\n",
      " [1 0 0 ... 1 0 1]\n",
      " [1 0 1 ... 0 0 0]\n",
      " [1 0 0 ... 1 1 0]]\n",
      "[[ 1  1  1 ...  1  1 -1]\n",
      " [-1 -1  1 ... -1  1 -1]\n",
      " [ 1 -1 -1 ... -1  1  1]\n",
      " ...\n",
      " [ 1 -1 -1 ...  1 -1  1]\n",
      " [ 1 -1  1 ... -1 -1 -1]\n",
      " [ 1 -1 -1 ...  1  1 -1]]\n",
      "[[ 1  2  3 ...  0  1  0]\n",
      " [-1 -2 -1 ... -8 -7 -8]\n",
      " [ 1  0 -1 ... -2 -1  0]\n",
      " ...\n",
      " [ 1  0 -1 ... -4 -5 -4]\n",
      " [ 1  0  1 ...  4  3  2]\n",
      " [ 1  0 -1 ...  4  5  4]]\n"
     ]
    }
   ],
   "source": [
    "#row broaddcasting \n",
    "nwalks=500\n",
    "nsteps=100\n",
    "draws =np.random.randint(0,2,size=(nwalks,nsteps))\n",
    "print (draws)\n",
    "steps=np.where(draws>0,1,-1)\n",
    "print (steps)\n",
    "\n",
    "walks=steps.cumsum(1)\n",
    "print (walks)"
   ]
  },
  {
   "cell_type": "code",
   "execution_count": null,
   "id": "e74bfe73",
   "metadata": {},
   "outputs": [],
   "source": []
  },
  {
   "cell_type": "code",
   "execution_count": null,
   "id": "5ce1e7b4",
   "metadata": {},
   "outputs": [],
   "source": []
  },
  {
   "cell_type": "code",
   "execution_count": null,
   "id": "2b7e6ce6",
   "metadata": {},
   "outputs": [],
   "source": []
  },
  {
   "cell_type": "code",
   "execution_count": null,
   "id": "e3f7916b",
   "metadata": {},
   "outputs": [],
   "source": []
  },
  {
   "cell_type": "code",
   "execution_count": null,
   "id": "0afa926d",
   "metadata": {},
   "outputs": [],
   "source": []
  }
 ],
 "metadata": {
  "kernelspec": {
   "display_name": "Python 3",
   "language": "python",
   "name": "python3"
  },
  "language_info": {
   "codemirror_mode": {
    "name": "ipython",
    "version": 3
   },
   "file_extension": ".py",
   "mimetype": "text/x-python",
   "name": "python",
   "nbconvert_exporter": "python",
   "pygments_lexer": "ipython3",
   "version": "3.9.5"
  }
 },
 "nbformat": 4,
 "nbformat_minor": 5
}

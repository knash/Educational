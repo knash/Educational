{
 "cells": [
  {
   "cell_type": "code",
   "execution_count": 75,
   "id": "bfa38d2c",
   "metadata": {},
   "outputs": [],
   "source": [
    "import sys\n",
    "sys.path.append('/usr/local/lib/python3.9/site-packages/')\n",
    "import bisect\n",
    "import math\n",
    "import matplotlib as plt\n",
    "import pandas as pd\n",
    "from pandas import Series,DataFrame\n",
    "import matplotlib.pyplot as plt\n",
    "import numpy as np\n",
    "import copy"
   ]
  },
  {
   "cell_type": "code",
   "execution_count": 76,
   "id": "d6864317",
   "metadata": {},
   "outputs": [
    {
     "name": "stdout",
     "output_type": "stream",
     "text": [
      "0    1\n",
      "1    2\n",
      "2    5\n",
      "3    6\n",
      "dtype: int64\n"
     ]
    }
   ],
   "source": [
    "#Pandas is kinda like numpy except better for heterogenous data\n",
    "#Series is equiv of numpy array\n",
    "pds=Series([1,2,5,6])\n",
    "print (pds)"
   ]
  },
  {
   "cell_type": "code",
   "execution_count": 77,
   "id": "177224e5",
   "metadata": {},
   "outputs": [
    {
     "name": "stdout",
     "output_type": "stream",
     "text": [
      "RangeIndex(start=0, stop=4, step=1)\n",
      "[0, 1, 2, 3]\n"
     ]
    }
   ],
   "source": [
    "#pandas indices \n",
    "print(pds.index)\n",
    "print(list(pds.index))"
   ]
  },
  {
   "cell_type": "code",
   "execution_count": 78,
   "id": "f7bb140f",
   "metadata": {},
   "outputs": [
    {
     "name": "stdout",
     "output_type": "stream",
     "text": [
      "a    1\n",
      "b    2\n",
      "c    5\n",
      "d    6\n",
      "dtype: int64\n",
      "Index(['a', 'b', 'c', 'd'], dtype='object')\n"
     ]
    }
   ],
   "source": [
    "#kinda like an ordered dict\n",
    "pds1=Series([1,2,5,6],index=[\"a\",\"b\",\"c\",\"d\"])\n",
    "print (pds1)\n",
    "print (pds1.index)"
   ]
  },
  {
   "cell_type": "code",
   "execution_count": 79,
   "id": "51971a63",
   "metadata": {},
   "outputs": [
    {
     "name": "stdout",
     "output_type": "stream",
     "text": [
      "c    5\n",
      "d    6\n",
      "dtype: int64\n",
      "a     3\n",
      "b     6\n",
      "c    15\n",
      "d    18\n",
      "dtype: int64\n",
      "False\n"
     ]
    }
   ],
   "source": [
    "#can do numpy like index broadcasting\n",
    "print (pds1[pds1>3])\n",
    "print (pds1*3)\n",
    "print (\"x\" in pds1)"
   ]
  },
  {
   "cell_type": "code",
   "execution_count": 80,
   "id": "e1eef194",
   "metadata": {},
   "outputs": [
    {
     "name": "stdout",
     "output_type": "stream",
     "text": [
      "Ohio        70000\n",
      "Texas        3000\n",
      "Utah       400000\n",
      "Vermont        10\n",
      "dtype: int64\n",
      "Ohio        70000.0\n",
      "Texas        3000.0\n",
      "Virginia        NaN\n",
      "dtype: float64\n"
     ]
    }
   ],
   "source": [
    "#dict to pd -- Order is from Sorted\n",
    "pyd={\"Ohio\":70000,\"Texas\":3000,\"Utah\":400000,\"Vermont\":10}\n",
    "pds2=Series(pyd)\n",
    "print (pds2)\n",
    "pds2=Series(pyd,[\"Ohio\",\"Texas\",\"Virginia\"])\n",
    "print (pds2)"
   ]
  },
  {
   "cell_type": "code",
   "execution_count": 81,
   "id": "a986e01b",
   "metadata": {},
   "outputs": [
    {
     "name": "stdout",
     "output_type": "stream",
     "text": [
      "Ohio        False\n",
      "Texas       False\n",
      "Virginia     True\n",
      "dtype: bool\n",
      "Ohio         True\n",
      "Texas        True\n",
      "Virginia    False\n",
      "dtype: bool\n",
      "Ohio     70000.0\n",
      "Texas     3000.0\n",
      "dtype: float64\n",
      "Ohio     70000.0\n",
      "Texas     3000.0\n",
      "dtype: float64\n",
      "Virginia   NaN\n",
      "dtype: float64\n"
     ]
    }
   ],
   "source": [
    "#find missing data\n",
    "print (pd.isnull(pds2))\n",
    "print (pd.notnull(pds2))\n",
    "print (pds2[pd.notnull(pds2)])\n",
    "print (pds2[pds2.notnull()])\n",
    "print (pds2[pds2.isnull()])"
   ]
  },
  {
   "cell_type": "code",
   "execution_count": 82,
   "id": "24bd690e",
   "metadata": {},
   "outputs": [
    {
     "name": "stdout",
     "output_type": "stream",
     "text": [
      "Ohio        140000.0\n",
      "Texas         6000.0\n",
      "Utah             NaN\n",
      "Vermont          NaN\n",
      "Virginia         NaN\n",
      "dtype: float64\n"
     ]
    }
   ],
   "source": [
    "#mathematical operations align be index \n",
    "#Always use pandas for database stuff!\n",
    "pyd1={\"Ohio\":2,\"Texas\":15,\"Utah\":3,\"Vermont\":20,\"Wyoming\":6}\n",
    "pds3=Series(pyd)\n",
    "print(pds3+pds2)"
   ]
  },
  {
   "cell_type": "code",
   "execution_count": 83,
   "id": "cbb4e4b9",
   "metadata": {},
   "outputs": [
    {
     "name": "stdout",
     "output_type": "stream",
     "text": [
      "state\n",
      "Ohio        70000.0\n",
      "Texas        3000.0\n",
      "Virginia        NaN\n",
      "Name: population, dtype: float64\n",
      "Ohio     70000.0\n",
      "Texas     3000.0\n",
      "Iowa         NaN\n",
      "Name: population, dtype: float64\n"
     ]
    }
   ],
   "source": [
    "#Can give names to indices -- like dict of dict?\n",
    "#Probably most pandas objects have a name attribute\n",
    "\n",
    "pds2.name=\"population\"\n",
    "pds2.index.name=\"state\"\n",
    "print (pds2)\n",
    "\n",
    "#can alter index names in order\n",
    "pds2.index=['Ohio', 'Texas', 'Iowa']\n",
    "print (pds2)"
   ]
  },
  {
   "cell_type": "code",
   "execution_count": 91,
   "id": "2a9b1bda",
   "metadata": {},
   "outputs": [
    {
     "name": "stdout",
     "output_type": "stream",
     "text": [
      "    state  year  pop\n",
      "0    Ohio  2000  1.1\n",
      "1    Ohio  2001  1.4\n",
      "2    Ohio  2002  1.9\n",
      "3  Nevada  2000  1.3\n",
      "4  Nevada  2001  1.5\n",
      "5  Nevada  2002  1.7\n"
     ]
    }
   ],
   "source": [
    "#Dataframes!  Pandas dict of series\n",
    "# to create a DataFrame, use dict of list (or np array)\n",
    "dictdata =  {\n",
    "            \"state\":[\"Ohio\",\"Ohio\",\"Ohio\",\"Nevada\",\"Nevada\",\"Nevada\"],\n",
    "            \"year\":[2000,2001,2002,2000,2001,2002],\n",
    "            \"pop\":[1.1,1.4,1.9,1.3,1.5,1.7]\n",
    "            }\n",
    "df=DataFrame(dictdata)\n",
    "print (df)"
   ]
  },
  {
   "cell_type": "code",
   "execution_count": 92,
   "id": "737f0838",
   "metadata": {},
   "outputs": [
    {
     "name": "stdout",
     "output_type": "stream",
     "text": [
      "Index(['state', 'year', 'pop'], dtype='object')\n",
      "     year  state  pop\n",
      "0    Ohio   2000  1.1\n",
      "1    Ohio   2001  1.4\n",
      "2    Ohio   2002  1.9\n",
      "3  Nevada   2000  1.3\n",
      "4  Nevada   2001  1.5\n",
      "5  Nevada   2002  1.7\n",
      "       year   state  pop debt\n",
      "one    2000    Ohio  1.1  NaN\n",
      "two    2001    Ohio  1.4  NaN\n",
      "three  2002    Ohio  1.9  NaN\n",
      "four   2000  Nevada  1.3  NaN\n",
      "five   2001  Nevada  1.5  NaN\n",
      "six    2002  Nevada  1.7  NaN\n"
     ]
    }
   ],
   "source": [
    "#can organize dataframe columns\n",
    "print (df.columns)\n",
    "df.columns=[ 'year', 'state', 'pop']\n",
    "print (df)\n",
    "#column row is column index\n",
    "df=DataFrame(dictdata,columns=[ 'year', 'state', 'pop', 'debt'],index=[\"one\",\"two\",\"three\",\"four\",\"five\",\"six\"])\n",
    "print (df)\n"
   ]
  },
  {
   "cell_type": "code",
   "execution_count": 93,
   "id": "689291ec",
   "metadata": {},
   "outputs": [
    {
     "name": "stdout",
     "output_type": "stream",
     "text": [
      "one      2000\n",
      "two      2001\n",
      "three    2002\n",
      "four     2000\n",
      "five     2001\n",
      "six      2002\n",
      "Name: year, dtype: int64\n",
      "one        Ohio\n",
      "two        Ohio\n",
      "three      Ohio\n",
      "four     Nevada\n",
      "five     Nevada\n",
      "six      Nevada\n",
      "Name: state, dtype: object\n"
     ]
    }
   ],
   "source": [
    "#column names are both dict indices and functional properties\n",
    "#returns a pandas Series\n",
    "print (df[\"year\"])\n",
    "print (df.state)"
   ]
  },
  {
   "cell_type": "code",
   "execution_count": 94,
   "id": "79bac24b",
   "metadata": {},
   "outputs": [
    {
     "name": "stdout",
     "output_type": "stream",
     "text": [
      "one      NaN\n",
      "two      NaN\n",
      "three    NaN\n",
      "four     NaN\n",
      "five     NaN\n",
      "six      NaN\n",
      "Name: debt, dtype: object\n",
      "one      16.0\n",
      "two      16.0\n",
      "three    16.0\n",
      "four     16.0\n",
      "five     16.0\n",
      "six      16.0\n",
      "Name: debt, dtype: float64\n",
      "one      1.1\n",
      "two      1.2\n",
      "three    1.3\n",
      "four     1.4\n",
      "five     1.5\n",
      "six      1.6\n",
      "Name: debt, dtype: float64\n"
     ]
    }
   ],
   "source": [
    "df=copy.deepcopy(df)\n",
    "\n",
    "print (df[\"debt\"])\n",
    "df[\"debt\"]=16.\n",
    "print (df[\"debt\"])\n",
    "df[\"debt\"]=[1.1,1.2,1.3,1.4,1.5,1.6]\n",
    "print (df[\"debt\"])"
   ]
  },
  {
   "cell_type": "code",
   "execution_count": 97,
   "id": "55005353",
   "metadata": {},
   "outputs": [
    {
     "name": "stdout",
     "output_type": "stream",
     "text": [
      "       year   state  pop  debt\n",
      "one    2000    Ohio  1.1   1.1\n",
      "two    2001    Ohio  1.4   NaN\n",
      "three  2002    Ohio  1.9   2.4\n",
      "four   2000  Nevada  1.3   NaN\n",
      "five   2001  Nevada  1.5   2.5\n",
      "six    2002  Nevada  1.7   NaN\n",
      "        year  state    pop   debt\n",
      "one    False  False  False  False\n",
      "two    False  False  False   True\n",
      "three  False  False  False  False\n",
      "four   False  False  False   True\n",
      "five   False  False  False  False\n",
      "six    False  False  False   True\n"
     ]
    }
   ],
   "source": [
    "#Adding data to Dataframe\n",
    "#use a series\n",
    "pdmerge=pd.Series([1.1,2.4,2.5],index=[\"one\",\"three\",\"five\"])\n",
    "df[\"debt\"]=pdmerge\n",
    "print(df)\n",
    "print (df.isnull())"
   ]
  },
  {
   "cell_type": "code",
   "execution_count": 101,
   "id": "9061c46a",
   "metadata": {},
   "outputs": [
    {
     "name": "stdout",
     "output_type": "stream",
     "text": [
      "       year   state  pop  debt  eastern\n",
      "one    2000    Ohio  1.1   1.1     True\n",
      "two    2001    Ohio  1.4   NaN     True\n",
      "three  2002    Ohio  1.9   2.4     True\n",
      "four   2000  Nevada  1.3   NaN    False\n",
      "five   2001  Nevada  1.5   2.5    False\n",
      "six    2002  Nevada  1.7   NaN    False\n",
      "       year   state  pop  debt\n",
      "one    2000    Ohio  1.1   1.1\n",
      "two    2001    Ohio  1.4   NaN\n",
      "three  2002    Ohio  1.9   2.4\n",
      "four   2000  Nevada  1.3   NaN\n",
      "five   2001  Nevada  1.5   2.5\n",
      "six    2002  Nevada  1.7   NaN\n"
     ]
    }
   ],
   "source": [
    "#Frame uses math arguments on the seres specifies\n",
    "Est=(df.state==\"Ohio\")\n",
    "df[\"eastern\"]=Est\n",
    "print(df)\n",
    "del df[\"eastern\"]\n",
    "print(df)\n",
    "\n"
   ]
  },
  {
   "cell_type": "code",
   "execution_count": 110,
   "id": "f7cd17ee",
   "metadata": {},
   "outputs": [
    {
     "name": "stdout",
     "output_type": "stream",
     "text": [
      "      Nevada  Ohio\n",
      "2001     2.4   1.4\n",
      "2002     2.9   2.2\n",
      "2000     NaN   1.1\n",
      "        2001  2002  2000\n",
      "Nevada   2.4   2.9   NaN\n",
      "Ohio     1.4   2.2   1.1\n"
     ]
    }
   ],
   "source": [
    "#You can interpret a dict of dicts as a dataframe\n",
    "#Outer dict is collumn, inner is row\n",
    "\n",
    "pop={\n",
    "        \"Nevada\":{2001:2.4,2002:2.9},\n",
    "        \"Ohio\":{2000:1.1,2001:1.4,2002:2.2}\n",
    "    }\n",
    "df=pd.DataFrame(pop)\n",
    "print (df)\n",
    "\n",
    "#transpose\n",
    "print(df.T)"
   ]
  },
  {
   "cell_type": "code",
   "execution_count": 119,
   "id": "d2f91826",
   "metadata": {},
   "outputs": [
    {
     "name": "stdout",
     "output_type": "stream",
     "text": [
      "Int64Index([2001, 2002, 2000, 2003], dtype='int64')\n",
      "      Nevada  Ohio\n",
      "2001     2.4   1.4\n",
      "200      NaN   NaN\n",
      "2000     NaN   1.1\n",
      "2003     NaN   NaN\n",
      "      Nevada  Ohio\n",
      "2001     2.4   1.4\n",
      "2002     NaN   NaN\n",
      "2000     NaN   1.1\n",
      "2003     NaN   NaN\n",
      "2004     NaN   NaN\n"
     ]
    }
   ],
   "source": [
    "print (df.index)\n",
    "df=pd.DataFrame(pop,index=[2001, 200, 2000,2003])\n",
    "print (df)\n",
    "\n",
    "#reindexing\n",
    "print (df.reindex([2001, 2002, 2000,2003,2004]))"
   ]
  },
  {
   "cell_type": "code",
   "execution_count": 143,
   "id": "9ef0e890",
   "metadata": {},
   "outputs": [
    {
     "name": "stdout",
     "output_type": "stream",
     "text": [
      "0       blue\n",
      "1       blue\n",
      "2       blue\n",
      "3       blue\n",
      "4    purplle\n",
      "5    yelllow\n",
      "dtype: object\n"
     ]
    }
   ],
   "source": [
    "#you can use ffill to do excel like extrapolations\n",
    "colseries=pd.Series([\"blue\",\"purplle\",\"yelllow\"],index=[0,4,5])\n",
    "colseries=colseries.reindex(np.arange(6),method=\"ffill\")\n",
    "print (colseries)\n",
    "#OR\n",
    "#colseries=colseries.ffill()\n",
    "#print (colseries)\n"
   ]
  },
  {
   "cell_type": "code",
   "execution_count": 147,
   "id": "129708ed",
   "metadata": {},
   "outputs": [
    {
     "name": "stdout",
     "output_type": "stream",
     "text": [
      "Index(['Ohio', 'Texas', 'Virginia'], dtype='object')\n",
      "   Ohio  Virginia  Texas  Zoop\n",
      "a   0.0       2.0    1.0   NaN\n",
      "b   3.0       5.0    4.0   NaN\n",
      "c   NaN       NaN    NaN   NaN\n",
      "d   6.0       8.0    7.0   NaN\n"
     ]
    }
   ],
   "source": [
    "newdf=pd.DataFrame(np.arange(9).reshape(3,3),index=[\"a\",\"b\",\"d\"],columns=[\"Ohio\",\"Texas\",\"Virginia\"])\n",
    "#reindex assumes row in a DataFrame\n",
    "newdf=newdf.reindex([\"a\",\"b\",\"c\",\"d\"])\n",
    "#to reindex columns\n",
    "print (newdf.columns)\n",
    "newdf=newdf.reindex(columns=[\"Ohio\",\"Virginia\",\"Texas\",\"Zoop\"])\n",
    "\n",
    "print (newdf)"
   ]
  },
  {
   "cell_type": "code",
   "execution_count": 157,
   "id": "90298fba",
   "metadata": {},
   "outputs": [
    {
     "name": "stdout",
     "output_type": "stream",
     "text": [
      "   Ohio  Virginia  Texas  Zoop\n",
      "a   0.0       2.0    1.0   NaN\n",
      "c   NaN       NaN    NaN   NaN\n",
      "d   6.0       8.0    7.0   NaN\n",
      "   Ohio  Virginia  Texas  Zoop\n",
      "a   0.0       2.0    1.0   NaN\n",
      "c   NaN       NaN    NaN   NaN\n",
      "   Ohio  Texas  Zoop\n",
      "a   0.0    1.0   NaN\n",
      "b   3.0    4.0   NaN\n",
      "c   NaN    NaN   NaN\n",
      "d   6.0    7.0   NaN\n",
      "   Ohio  Virginia  Zoop\n",
      "a   0.0       2.0   NaN\n",
      "b   3.0       5.0   NaN\n",
      "c   NaN       NaN   NaN\n",
      "d   6.0       8.0   NaN\n",
      "   Ohio  Virginia  Texas\n",
      "a   0.0       2.0    1.0\n",
      "b   3.0       5.0    4.0\n",
      "c   NaN       NaN    NaN\n",
      "d   6.0       8.0    7.0\n"
     ]
    }
   ],
   "source": [
    "#index dropping \n",
    "newdf=copy.deepcopy(newdf)\n",
    "newdf1=newdf.drop(\"b\")\n",
    "print(newdf1)\n",
    "newdf1=newdf.drop(index=[\"b\",\"d\"])\n",
    "print(newdf1)\n",
    "newdf1=newdf.drop(columns=[\"Virginia\"])\n",
    "print(newdf1)\n",
    "#can be done with axis number\n",
    "\n",
    "newdf1=newdf.drop(columns=[\"Texas\"],axis=1)\n",
    "print(newdf1)\n",
    "newdf1=newdf.drop(columns=[\"Zoop\"],axis=\"columns\")\n",
    "print(newdf1)\n"
   ]
  },
  {
   "cell_type": "code",
   "execution_count": 175,
   "id": "caab942d",
   "metadata": {},
   "outputs": [
    {
     "name": "stdout",
     "output_type": "stream",
     "text": [
      "a    1\n",
      "b    2\n",
      "c    5\n",
      "d    6\n",
      "dtype: int64\n",
      "a    1\n",
      "b    5\n",
      "c    5\n",
      "d    5\n",
      "dtype: int64\n",
      "a    False\n",
      "b     True\n",
      "c     True\n",
      "dtype: bool\n",
      "   Ohio  Virginia  Texas  Zoop\n",
      "b   3.0       5.0    4.0   NaN\n",
      "c   NaN       NaN    NaN   NaN\n",
      "d   6.0       8.0    7.0   NaN\n",
      "   Ohio  Virginia  Texas  Zoop\n",
      "a   NaN       NaN    NaN   NaN\n",
      "b   NaN       5.0    NaN   NaN\n",
      "c   NaN       NaN    NaN   NaN\n",
      "d   6.0       8.0    7.0   NaN\n",
      "   Ohio  Virginia  Texas  Zoop\n",
      "a   0.0       2.0    1.0   NaN\n",
      "b   3.0       5.0    4.0   NaN\n",
      "c   NaN       NaN    NaN   NaN\n",
      "d   6.0       8.0    7.0   NaN\n",
      "   Ohio  Virginia  Texas  Zoop\n",
      "a   0.0       0.0    0.0   NaN\n",
      "b   0.0       5.0    0.0   NaN\n",
      "c   NaN       NaN    NaN   NaN\n",
      "d   6.0       8.0    7.0   NaN\n"
     ]
    }
   ],
   "source": [
    "#indexing Series\n",
    "pds1=Series([1,2,5,6],index=[\"a\",\"b\",\"c\",\"d\"])\n",
    "print(pds1)\n",
    "pds1[\"b\":\"d\"]=5\n",
    "print(pds1)\n",
    "\n",
    "print(pds1[\"a\":\"c\"]==5)\n",
    "newdf1=newdf\n",
    "newdf2=newdf1[\"b\":\"d\"]\n",
    "print (newdf2)\n",
    "#conditions turn into Nan\n",
    "newdf2=newdf1[newdf1>4]\n",
    "print (newdf2)\n",
    "newdf2=newdf1.copy()\n",
    "print (newdf2)\n",
    "newdf2[newdf2<5]=0\n",
    "print (newdf2)\n"
   ]
  },
  {
   "cell_type": "code",
   "execution_count": 184,
   "id": "64c830c4",
   "metadata": {},
   "outputs": [
    {
     "name": "stdout",
     "output_type": "stream",
     "text": [
      "   Ohio  Virginia  Texas  Zoop\n",
      "a   0.0       2.0    1.0   NaN\n",
      "b   3.0       5.0    4.0   NaN\n",
      "c   NaN       NaN    NaN   NaN\n",
      "d   6.0       8.0    7.0   NaN\n",
      "   Ohio  Texas\n",
      "a   0.0    1.0\n",
      "d   6.0    7.0\n",
      "   Ohio  Virginia\n",
      "b   3.0       5.0\n",
      "d   6.0       8.0\n"
     ]
    }
   ],
   "source": [
    "#pandas loc and iloc select rows and columns by name\n",
    "newdf2=newdf1.copy()\n",
    "print (newdf2)\n",
    "print(newdf2.loc[[\"a\",\"d\"],[\"Ohio\",\"Texas\"]])\n",
    "print(newdf2.iloc[[1,3],[0,1]])"
   ]
  },
  {
   "cell_type": "code",
   "execution_count": 191,
   "id": "58c47b09",
   "metadata": {},
   "outputs": [
    {
     "name": "stdout",
     "output_type": "stream",
     "text": [
      "0    0.0\n",
      "1    1.0\n",
      "2    2.0\n",
      "dtype: float64\n",
      "1.0\n",
      "a    0.0\n",
      "b    1.0\n",
      "c    2.0\n",
      "dtype: float64\n",
      "2.0\n"
     ]
    }
   ],
   "source": [
    "ser = pd.Series(np.arange(3.))\n",
    "print(ser)\n",
    "print(ser[1])#-1 does not work b/c integer indices\n",
    "ser.index=[\"a\",\"b\",\"c\"]\n",
    "print(ser)\n",
    "print(ser[-1])\n"
   ]
  },
  {
   "cell_type": "code",
   "execution_count": 193,
   "id": "764e1dae",
   "metadata": {},
   "outputs": [
    {
     "name": "stdout",
     "output_type": "stream",
     "text": [
      "a    0.0\n",
      "b    1.0\n",
      "c    2.0\n",
      "dtype: float64\n",
      "a    0.0\n",
      "b    1.0\n",
      "c    2.0\n",
      "d    3.0\n",
      "dtype: float64\n",
      "a    0.0\n",
      "b    2.0\n",
      "c    4.0\n",
      "d    NaN\n",
      "dtype: float64\n"
     ]
    }
   ],
   "source": [
    "#Series inex joining\n",
    "ser1 = pd.Series(np.arange(3.),index=[\"a\",\"b\",\"c\"])\n",
    "ser2 = pd.Series(np.arange(4.),index=[\"a\",\"b\",\"c\",\"d\"])\n",
    "print(ser1)\n",
    "print(ser2)\n",
    "print(ser2+ser1)\n",
    "#ONLY data values in overlaps, everything else in Nan"
   ]
  },
  {
   "cell_type": "code",
   "execution_count": 197,
   "id": "4c091db9",
   "metadata": {},
   "outputs": [
    {
     "name": "stdout",
     "output_type": "stream",
     "text": [
      "a    0.0\n",
      "b    2.0\n",
      "c    4.0\n",
      "d    3.0\n",
      "dtype: float64\n"
     ]
    }
   ],
   "source": [
    "#You can control overlaps with fillvalue\n",
    "ser1 = pd.Series(np.arange(3.),index=[\"a\",\"b\",\"c\"])\n",
    "ser2 = pd.Series(np.arange(4.),index=[\"a\",\"b\",\"c\",\"d\"])\n",
    "print(ser2.add(ser1,fill_value=0.))"
   ]
  },
  {
   "cell_type": "code",
   "execution_count": 223,
   "id": "7ee1dfad",
   "metadata": {},
   "outputs": [
    {
     "name": "stdout",
     "output_type": "stream",
     "text": [
      "[[ 0  1  2]\n",
      " [ 3  4  5]\n",
      " [ 6  7  8]\n",
      " [ 9 10 11]]\n",
      "[[0 0 0]\n",
      " [3 3 3]\n",
      " [6 6 6]\n",
      " [9 9 9]]\n",
      "          b   d   e\n",
      "Ohio      0   1   2\n",
      "Virginia  3   4   5\n",
      "Texas     6   7   8\n",
      "Zoop      9  10  11\n",
      "b    3\n",
      "d    4\n",
      "e    5\n",
      "Name: Virginia, dtype: int64\n",
      "          b  d  e\n",
      "Ohio     -3 -3 -3\n",
      "Virginia  0  0  0\n",
      "Texas     3  3  3\n",
      "Zoop      6  6  6\n",
      "Ohio        0\n",
      "Virginia    3\n",
      "Texas       6\n",
      "Zoop        9\n",
      "Name: b, dtype: int64\n",
      "          b  d  e\n",
      "Ohio      0  1  2\n",
      "Virginia  0  1  2\n",
      "Texas     0  1  2\n",
      "Zoop      0  1  2\n",
      "          b  d  e\n",
      "Ohio      0  1  2\n",
      "Virginia -3 -2 -1\n",
      "Texas    -6 -5 -4\n",
      "Zoop     -9 -8 -7\n",
      "          b  d  e\n",
      "Ohio      0  1  2\n",
      "Virginia  3  2  1\n",
      "Texas     6  5  4\n",
      "Zoop      9  8  7\n"
     ]
    }
   ],
   "source": [
    "#Broacasting means performing an operation axiswise\n",
    "curarr=np.arange(12).reshape(4,3)\n",
    "print(curarr)\n",
    "print(curarr-curarr[0])\n",
    "\n",
    "#can also be done to pandas objects\n",
    "curdf=pd.DataFrame(np.arange(12).reshape(4,3),columns=list('bde'),index=[\"Ohio\",\"Virginia\",\"Texas\",\"Zoop\"])\n",
    "print (curdf)\n",
    "curser=curdf.loc[\"Virginia\"]\n",
    "print(curser)\n",
    "\n",
    "#Note, by index!\n",
    "print (curdf.sub(curser,axis=1))\n",
    "\n",
    "curser=curdf.loc[:,\"b\"]\n",
    "print(curser)\n",
    "\n",
    "print (curdf.sub(curser,axis=0))\n",
    "print (curdf.sub(2*curser,axis=0))\n",
    "#pandas works with numpy ufuncs\n",
    "print (np.abs(curdf.sub(2*curser,axis=0)))\n",
    "\n",
    "\n"
   ]
  },
  {
   "cell_type": "code",
   "execution_count": 234,
   "id": "bb398ca0",
   "metadata": {},
   "outputs": [
    {
     "name": "stdout",
     "output_type": "stream",
     "text": [
      "          b   d   e\n",
      "Ohio      0   1   2\n",
      "Virginia  3   4   5\n",
      "Texas     6   7   8\n",
      "Zoop      9  10  11\n",
      "b    9\n",
      "d    9\n",
      "e    9\n",
      "dtype: int64\n",
      "Ohio        2\n",
      "Virginia    2\n",
      "Texas       2\n",
      "Zoop        2\n",
      "dtype: int64\n",
      "          min  max\n",
      "Ohio        0    2\n",
      "Virginia    3    5\n",
      "Texas       6    8\n",
      "Zoop        9   11\n"
     ]
    }
   ],
   "source": [
    "# you can make rowwise of columnwise functions in pandas from python functions\n",
    "func=lambda x : x.max() - x.min()\n",
    "curdf1=curdf.copy()\n",
    "print(curdf1)\n",
    "print (curdf1.apply(func,axis=0))\n",
    "print (curdf1.apply(func,axis=1))\n",
    "\n",
    "# func can also return a series\n",
    "def func1(x):\n",
    "    return pd.Series([x.min(),x.max()],index=[\"min\",\"max\"])\n",
    "print (curdf1.apply(func1,axis=1))\n"
   ]
  },
  {
   "cell_type": "code",
   "execution_count": 253,
   "id": "1c60950b",
   "metadata": {},
   "outputs": [
    {
     "name": "stdout",
     "output_type": "stream",
     "text": [
      "Index(['Ohio', 'Virginia', 'Texas', 'Zoop'], dtype='object')\n",
      "           e   d  b\n",
      "Zoop      11  10  9\n",
      "Ohio       2   1  0\n",
      "Virginia   5   4  3\n",
      "Texas      8   7  6\n",
      "          b   d   e\n",
      "Zoop      9  10  11\n",
      "Ohio      0   1   2\n",
      "Virginia  3   4   5\n",
      "Texas     6   7   8\n",
      "           e   d  b\n",
      "Ohio       2   1  0\n",
      "Texas      8   7  6\n",
      "Virginia   5   4  3\n",
      "Zoop      11  10  9\n",
      "          b   d   e\n",
      "Zoop      9  10  11\n",
      "Ohio      0   1   2\n",
      "Virginia  3   4   5\n",
      "Texas     6   7   8\n",
      "           e   d  b\n",
      "Ohio       2   1  0\n",
      "Virginia   5   4  3\n",
      "Texas      8   7  6\n",
      "Zoop      11  10  9\n"
     ]
    }
   ],
   "source": [
    "#sorting\n",
    "curdf1=curdf.copy()\n",
    "curdf1=curdf1.reindex([\"e\",\"d\",\"b\"],axis=1)\n",
    "print (curdf1.index)\n",
    "curdf1=curdf1.reindex(['Zoop','Ohio', 'Virginia', 'Texas', ],axis=0)\n",
    "\n",
    "print(curdf1)\n",
    "print(curdf1.sort_index(axis=1))\n",
    "print(curdf1.sort_index(axis=0))\n",
    "print(curdf1.sort_values(axis=1,by=\"Texas\"))\n",
    "print(curdf1.sort_values(axis=0,by=\"b\"))\n",
    "#giving sort a list for the \"by\" method sorts first elem then second if tie \n",
    "\n",
    "\n"
   ]
  },
  {
   "cell_type": "code",
   "execution_count": 265,
   "id": "a6bf137e",
   "metadata": {},
   "outputs": [
    {
     "name": "stdout",
     "output_type": "stream",
     "text": [
      "a    0\n",
      "a    1\n",
      "b    2\n",
      "b    3\n",
      "c    4\n",
      "dtype: int64\n",
      "False\n",
      "b    2\n",
      "b    3\n",
      "dtype: int64\n",
      "          b   d   e\n",
      "Ohio      0   1   2\n",
      "Virginia  3   4   5\n",
      "Texas     6   7   8\n",
      "Zoop      9  10  11\n",
      "None\n",
      "          b   d   e\n",
      "Ohio      0   1   3\n",
      "Virginia  3   7  12\n",
      "Texas     6  13  21\n",
      "Zoop      9  19  30\n"
     ]
    }
   ],
   "source": [
    "#duplicate labels \n",
    "pds=pd.Series(np.arange(5),index=[\"a\",\"a\",\"b\",\"b\",\"c\"])\n",
    "print(pds)\n",
    "print(pds.index.is_unique)\n",
    "print(pds[\"b\"])\n",
    "#same for dataframes\n",
    "\n",
    "#you can do lots of np type operations\n",
    "curdf1=curdf.copy()\n",
    "print(print(curdf1))\n",
    "print(curdf1.cumsum(axis=1))\n"
   ]
  },
  {
   "cell_type": "code",
   "execution_count": 276,
   "id": "fd48c66a",
   "metadata": {},
   "outputs": [
    {
     "name": "stdout",
     "output_type": "stream",
     "text": [
      "['a' 'b' 'c']\n",
      "a    8\n",
      "c    3\n",
      "b    1\n",
      "dtype: int64\n",
      "0     a\n",
      "1     a\n",
      "2     a\n",
      "3     a\n",
      "4     a\n",
      "5     a\n",
      "6     a\n",
      "7     a\n",
      "8     b\n",
      "9     c\n",
      "10    c\n",
      "11    c\n",
      "dtype: object\n",
      "0     False\n",
      "1     False\n",
      "2     False\n",
      "3     False\n",
      "4     False\n",
      "5     False\n",
      "6     False\n",
      "7     False\n",
      "8      True\n",
      "9      True\n",
      "10     True\n",
      "11     True\n",
      "dtype: bool\n"
     ]
    }
   ],
   "source": [
    "#setlikes\n",
    "pds=pd.Series([\"a\",\"a\",\"a\",\"a\",\"a\",\"a\",\"a\",\"a\",\"b\",\"c\",\"c\",\"c\"])\n",
    "print (pds.unique())\n",
    "print (pds.value_counts())\n",
    "print (pds)\n",
    "\n",
    "print (pds.isin([\"b\",\"c\"]))"
   ]
  },
  {
   "cell_type": "code",
   "execution_count": null,
   "id": "a548cc6a",
   "metadata": {},
   "outputs": [],
   "source": []
  }
 ],
 "metadata": {
  "kernelspec": {
   "display_name": "Python 3",
   "language": "python",
   "name": "python3"
  },
  "language_info": {
   "codemirror_mode": {
    "name": "ipython",
    "version": 3
   },
   "file_extension": ".py",
   "mimetype": "text/x-python",
   "name": "python",
   "nbconvert_exporter": "python",
   "pygments_lexer": "ipython3",
   "version": "3.9.5"
  }
 },
 "nbformat": 4,
 "nbformat_minor": 5
}

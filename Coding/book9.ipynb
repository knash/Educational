{
 "cells": [
  {
   "cell_type": "code",
   "execution_count": 50,
   "id": "6143368c",
   "metadata": {},
   "outputs": [],
   "source": [
    "import sys\n",
    "sys.path.append('/usr/local/lib/python3.9/site-packages/')\n",
    "\n",
    "\n",
    "import seaborn as sns\n",
    "import bisect\n",
    "import math\n",
    "import matplotlib as plt\n",
    "import pandas as pd\n",
    "from pandas import Series,DataFrame\n",
    "import matplotlib\n",
    "import matplotlib.pyplot as plt\n",
    "import numpy as np\n",
    "import copy\n",
    "import json\n",
    "import lxml\n",
    "from lxml import objectify \n",
    "from datetime import datetime\n",
    "import scipy\n",
    "from dateutil.parser import parse"
   ]
  },
  {
   "cell_type": "code",
   "execution_count": 51,
   "id": "776ca18d",
   "metadata": {},
   "outputs": [
    {
     "name": "stdout",
     "output_type": "stream",
     "text": [
      "2021-05-13 14:26:43.153943\n",
      "2021 26 43\n",
      "2018-07-03 00:00:00\n",
      "2019-07-02 03:04:05\n",
      "-365 days, 20:55:55\n",
      "2019-01-02 20:55:55\n"
     ]
    }
   ],
   "source": [
    "#Time series type data\n",
    "now=datetime.now()\n",
    "print (now)\n",
    "\n",
    "#datetime object\n",
    "print(now.year,now.minute,now.second)\n",
    "\n",
    "#timedelta, datetime is in decending oder from year\n",
    "time1=datetime(2018,7,3)\n",
    "time2=datetime(2019,7,2,3,4,5)\n",
    "print (time1)\n",
    "print (time2)\n",
    "\n",
    "td=time1-time2\n",
    "print (td)\n",
    "time3=datetime(2020,1,2)\n",
    "time3+=td\n",
    "print (time3)"
   ]
  },
  {
   "cell_type": "code",
   "execution_count": 62,
   "id": "7263d1bc",
   "metadata": {},
   "outputs": [
    {
     "name": "stdout",
     "output_type": "stream",
     "text": [
      "2011-02-24 00:00:00\n",
      "2011-02-24 00:00:00\n",
      "1997-04-03 18:35:00\n",
      "1950-06-24 14:50:00\n",
      "1997-03-04 18:35:00\n"
     ]
    }
   ],
   "source": [
    "#many ways to write times, conert with strptime\n",
    "time='2011-2-24'\n",
    "#I think Y is for full year\n",
    "dd=datetime.strptime(time,\"%Y-%m-%d\")\n",
    "print (dd)\n",
    "\n",
    "#parse can usually magically figure it out\n",
    "print (parse(time))\n",
    "print (parse(\"4/3/97 6:35 pm\"))\n",
    "print (parse(\"June 24 1950 at 14:50\"))\n",
    "#for Euros\n",
    "print (parse(\"4/3/97 6:35 pm\",dayfirst=True))\n"
   ]
  },
  {
   "cell_type": "code",
   "execution_count": 109,
   "id": "e07bfe37",
   "metadata": {},
   "outputs": [
    {
     "name": "stdout",
     "output_type": "stream",
     "text": [
      "               snarf     glorp\n",
      "2011-02-01  0.867950  0.474523\n",
      "2011-02-02  0.440988  0.981427\n",
      "2011-02-03  0.807466  0.797143\n",
      "2011-02-04  0.357037  0.012501\n",
      "2011-02-05  0.384623  0.075130\n",
      "2011-02-06  0.353309  0.097707\n",
      "2011-02-07  0.103245  0.077879\n",
      "2011-02-08  0.893074  0.267317\n",
      "2011-02-09  0.261848  0.027501\n",
      "2011-02-10  0.085767  0.432480\n",
      "Index(['snarf', 'glorp'], dtype='object')\n",
      "                test          \n",
      "               snarf     glorp\n",
      "2011-02-01  0.867950  0.474523\n",
      "2011-02-02  0.440988  0.981427\n",
      "2011-02-03  0.807466  0.797143\n",
      "2011-02-04  0.357037  0.012501\n",
      "2011-02-05  0.384623  0.075130\n",
      "2011-02-06  0.353309  0.097707\n",
      "2011-02-07  0.103245  0.077879\n",
      "2011-02-08  0.893074  0.267317\n",
      "2011-02-09  0.261848  0.027501\n",
      "2011-02-10  0.085767  0.432480\n"
     ]
    },
    {
     "data": {
      "text/html": [
       "<div>\n",
       "<style scoped>\n",
       "    .dataframe tbody tr th:only-of-type {\n",
       "        vertical-align: middle;\n",
       "    }\n",
       "\n",
       "    .dataframe tbody tr th {\n",
       "        vertical-align: top;\n",
       "    }\n",
       "\n",
       "    .dataframe thead tr th {\n",
       "        text-align: left;\n",
       "    }\n",
       "</style>\n",
       "<table border=\"1\" class=\"dataframe\">\n",
       "  <thead>\n",
       "    <tr>\n",
       "      <th></th>\n",
       "      <th colspan=\"2\" halign=\"left\">test</th>\n",
       "    </tr>\n",
       "    <tr>\n",
       "      <th></th>\n",
       "      <th>snarf</th>\n",
       "      <th>glorp</th>\n",
       "    </tr>\n",
       "  </thead>\n",
       "  <tbody>\n",
       "    <tr>\n",
       "      <th>2011-02-02</th>\n",
       "      <td>0.440988</td>\n",
       "      <td>0.981427</td>\n",
       "    </tr>\n",
       "    <tr>\n",
       "      <th>2011-02-03</th>\n",
       "      <td>0.807466</td>\n",
       "      <td>0.797143</td>\n",
       "    </tr>\n",
       "    <tr>\n",
       "      <th>2011-02-04</th>\n",
       "      <td>0.357037</td>\n",
       "      <td>0.012501</td>\n",
       "    </tr>\n",
       "    <tr>\n",
       "      <th>2011-02-05</th>\n",
       "      <td>0.384623</td>\n",
       "      <td>0.075130</td>\n",
       "    </tr>\n",
       "  </tbody>\n",
       "</table>\n",
       "</div>"
      ],
      "text/plain": [
       "                test          \n",
       "               snarf     glorp\n",
       "2011-02-02  0.440988  0.981427\n",
       "2011-02-03  0.807466  0.797143\n",
       "2011-02-04  0.357037  0.012501\n",
       "2011-02-05  0.384623  0.075130"
      ]
     },
     "execution_count": 109,
     "metadata": {},
     "output_type": "execute_result"
    }
   ],
   "source": [
    "daterange=pd.date_range(\"2011/2/1\",periods=10)\n",
    "timeframe=pd.DataFrame({\"snarf\":np.random.uniform(0,1,10),\"glorp\":np.random.uniform(0,1,10)},index=['2011-02-01', '2011-02-02', '2011-02-03', '2011-02-04',\n",
    "               '2011-02-05', '2011-02-06', '2011-02-07', '2011-02-08',\n",
    "               '2011-02-09', '2011-02-10'],)\n",
    "print (timeframe)\n",
    "timeframe.index=pd.DatetimeIndex(timeframe.index)\n",
    "print (timeframe.columns)\n",
    "timeframe.columns=[[\"test\",\"test\"],['snarf', 'glorp']]\n",
    "print(timeframe)\n",
    "timeframe.loc[\"2011/02/02\":\"2011/02/05\"]\n",
    "\n",
    "\n"
   ]
  },
  {
   "cell_type": "code",
   "execution_count": null,
   "id": "b4eb018b",
   "metadata": {},
   "outputs": [],
   "source": []
  }
 ],
 "metadata": {
  "kernelspec": {
   "display_name": "Python 3",
   "language": "python",
   "name": "python3"
  },
  "language_info": {
   "codemirror_mode": {
    "name": "ipython",
    "version": 3
   },
   "file_extension": ".py",
   "mimetype": "text/x-python",
   "name": "python",
   "nbconvert_exporter": "python",
   "pygments_lexer": "ipython3",
   "version": "3.9.5"
  }
 },
 "nbformat": 4,
 "nbformat_minor": 5
}
